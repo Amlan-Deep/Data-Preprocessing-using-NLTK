{
  "nbformat": 4,
  "nbformat_minor": 0,
  "metadata": {
    "colab": {
      "provenance": []
    },
    "kernelspec": {
      "name": "python3",
      "display_name": "Python 3"
    },
    "language_info": {
      "name": "python"
    },
    "gpuClass": "standard"
  },
  "cells": [
    {
      "cell_type": "code",
      "execution_count": null,
      "metadata": {
        "colab": {
          "base_uri": "https://localhost:8080/"
        },
        "id": "8AsBYKCrfF5n",
        "outputId": "6e152789-5e1c-442c-c469-b13ad17c1312"
      },
      "outputs": [
        {
          "output_type": "stream",
          "name": "stderr",
          "text": [
            "[nltk_data] Downloading package stopwords to /root/nltk_data...\n",
            "[nltk_data]   Unzipping corpora/stopwords.zip.\n"
          ]
        },
        {
          "output_type": "execute_result",
          "data": {
            "text/plain": [
              "True"
            ]
          },
          "metadata": {},
          "execution_count": 2
        }
      ],
      "source": [
        "import nltk\n",
        "nltk.download('stopwords')"
      ]
    },
    {
      "cell_type": "code",
      "source": [
        "import os"
      ],
      "metadata": {
        "id": "NA7rTTOtzvDL"
      },
      "execution_count": null,
      "outputs": []
    },
    {
      "cell_type": "code",
      "source": [
        "from nltk.corpus import stopwords"
      ],
      "metadata": {
        "id": "9HeItHER0EAD"
      },
      "execution_count": null,
      "outputs": []
    },
    {
      "cell_type": "code",
      "source": [
        "#importing the deal paper as .txt file\n",
        "with open(\"../content/board resolution.txt\") as file:board_text = file.read()"
      ],
      "metadata": {
        "id": "xazO5FGw2Xv9"
      },
      "execution_count": null,
      "outputs": []
    },
    {
      "cell_type": "code",
      "source": [
        "board_text"
      ],
      "metadata": {
        "id": "Hb1vf7r74Qb3",
        "colab": {
          "base_uri": "https://localhost:8080/",
          "height": 251
        },
        "outputId": "3cd25687-f368-451d-8693-4ff695f6eb0e"
      },
      "execution_count": null,
      "outputs": [
        {
          "output_type": "execute_result",
          "data": {
            "text/plain": [
              "\"[COMPANY NAME] \\n\\nBoard Resolution \\n\\nAt the meeting of the Board of Directors of [COMPANY NAME] on [MEETING DATE], the following \\nresolutions were proposed and approved by the board. \\n\\nResolved: Each person whose name is set forth on Exhibit A shall be granted an option (each an \\n“Option” \\nand collectively the “Options”) to purchase the number of shares of the Company’s \\nCommon Stock listed in Exhibit A. \\n\\nResolved: The option grants, vesting schedule, and other terms and conditions of the grant are set \\nforth in the [Company's Stock Option Plan, dated [ ] OR stock option agreement executed by each \\nperson granted an option]. \\n\\nWhereas: The Board has considered the following factors in determining the fair market value of the \\nCompany’s Common Stock: \\n\\n1.1 the value of tangible and intangible assets of the Company; \\n1.2 the present value of future cash flows; \\n1.3 the public trading price or private sale price of comparable companies; \\n1.4 control premiums and discounts for lack of marketability; \\n1.5 whether the method is used for other purposes; \\n1.6 whether all available information is taken into account in determining value. \\nWhereas: In accordance with the above factors, the Board determined that the fair market value of \\nthe Company’s Common Stock is $[STOCK VALUE] per share. \\n\\nResolved: Based on the factors and the Board’s analysis detailed above, the fair market value of the \\nCompany’s Common Stock as of the date hereof is hereby determined to be $[STOCK VALUE]. \\n\\nResolved Further: Unless otherwise set forth on Exhibit A, the exercise price for the Options shall be \\n$[EXERCISE PRICE] per share. \\n\\nSigned: \\n\\n(President) or (Chairman) \\n\\nExhibit A \\n\\nStock Option Grants \\n\\nName Number of Shares Stock Plan and Vesting Schedule \\n\\n1 of 2 \\n\\n\\x0c\\n2 of 2 \\n\\n\\x0c\\n\""
            ],
            "application/vnd.google.colaboratory.intrinsic+json": {
              "type": "string"
            }
          },
          "metadata": {},
          "execution_count": 6
        }
      ]
    },
    {
      "cell_type": "code",
      "source": [
        "#tokenizing all the text into words\n",
        "words=board_text.split()"
      ],
      "metadata": {
        "id": "Iatjq1VN8pH8"
      },
      "execution_count": null,
      "outputs": []
    },
    {
      "cell_type": "code",
      "source": [
        "words"
      ],
      "metadata": {
        "id": "9CKIU_Jo-EV8"
      },
      "execution_count": null,
      "outputs": []
    },
    {
      "cell_type": "code",
      "source": [
        "#removing all special characters and numbers\n",
        "only_words = [word for word in words if word.isalpha()]"
      ],
      "metadata": {
        "id": "RYffXUiSFdKF"
      },
      "execution_count": null,
      "outputs": []
    },
    {
      "cell_type": "code",
      "source": [
        "only_words"
      ],
      "metadata": {
        "id": "AIiRXGa1GJGT"
      },
      "execution_count": null,
      "outputs": []
    },
    {
      "cell_type": "code",
      "source": [
        "small_letter_words=[word.lower() for word in only_words]\n",
        "small_letter_words"
      ],
      "metadata": {
        "id": "_LifPWMvGKln"
      },
      "execution_count": null,
      "outputs": []
    },
    {
      "cell_type": "code",
      "source": [
        "#removing all stopwords (common english words , so that only financial terms remain)\n",
        "stopwords_nltk= set(stopwords.words('english'))"
      ],
      "metadata": {
        "id": "rx1Qdq3YLxV9"
      },
      "execution_count": null,
      "outputs": []
    },
    {
      "cell_type": "code",
      "source": [
        "stopwords_nltk"
      ],
      "metadata": {
        "id": "VdlwrNyfMHaG",
        "colab": {
          "base_uri": "https://localhost:8080/"
        },
        "outputId": "3bb797da-01a9-4fbe-f621-79b1d3980b27"
      },
      "execution_count": null,
      "outputs": [
        {
          "output_type": "execute_result",
          "data": {
            "text/plain": [
              "{'a',\n",
              " 'about',\n",
              " 'above',\n",
              " 'after',\n",
              " 'again',\n",
              " 'against',\n",
              " 'ain',\n",
              " 'all',\n",
              " 'am',\n",
              " 'an',\n",
              " 'and',\n",
              " 'any',\n",
              " 'are',\n",
              " 'aren',\n",
              " \"aren't\",\n",
              " 'as',\n",
              " 'at',\n",
              " 'be',\n",
              " 'because',\n",
              " 'been',\n",
              " 'before',\n",
              " 'being',\n",
              " 'below',\n",
              " 'between',\n",
              " 'both',\n",
              " 'but',\n",
              " 'by',\n",
              " 'can',\n",
              " 'couldn',\n",
              " \"couldn't\",\n",
              " 'd',\n",
              " 'did',\n",
              " 'didn',\n",
              " \"didn't\",\n",
              " 'do',\n",
              " 'does',\n",
              " 'doesn',\n",
              " \"doesn't\",\n",
              " 'doing',\n",
              " 'don',\n",
              " \"don't\",\n",
              " 'down',\n",
              " 'during',\n",
              " 'each',\n",
              " 'few',\n",
              " 'for',\n",
              " 'from',\n",
              " 'further',\n",
              " 'had',\n",
              " 'hadn',\n",
              " \"hadn't\",\n",
              " 'has',\n",
              " 'hasn',\n",
              " \"hasn't\",\n",
              " 'have',\n",
              " 'haven',\n",
              " \"haven't\",\n",
              " 'having',\n",
              " 'he',\n",
              " 'her',\n",
              " 'here',\n",
              " 'hers',\n",
              " 'herself',\n",
              " 'him',\n",
              " 'himself',\n",
              " 'his',\n",
              " 'how',\n",
              " 'i',\n",
              " 'if',\n",
              " 'in',\n",
              " 'into',\n",
              " 'is',\n",
              " 'isn',\n",
              " \"isn't\",\n",
              " 'it',\n",
              " \"it's\",\n",
              " 'its',\n",
              " 'itself',\n",
              " 'just',\n",
              " 'll',\n",
              " 'm',\n",
              " 'ma',\n",
              " 'me',\n",
              " 'mightn',\n",
              " \"mightn't\",\n",
              " 'more',\n",
              " 'most',\n",
              " 'mustn',\n",
              " \"mustn't\",\n",
              " 'my',\n",
              " 'myself',\n",
              " 'needn',\n",
              " \"needn't\",\n",
              " 'no',\n",
              " 'nor',\n",
              " 'not',\n",
              " 'now',\n",
              " 'o',\n",
              " 'of',\n",
              " 'off',\n",
              " 'on',\n",
              " 'once',\n",
              " 'only',\n",
              " 'or',\n",
              " 'other',\n",
              " 'our',\n",
              " 'ours',\n",
              " 'ourselves',\n",
              " 'out',\n",
              " 'over',\n",
              " 'own',\n",
              " 're',\n",
              " 's',\n",
              " 'same',\n",
              " 'shan',\n",
              " \"shan't\",\n",
              " 'she',\n",
              " \"she's\",\n",
              " 'should',\n",
              " \"should've\",\n",
              " 'shouldn',\n",
              " \"shouldn't\",\n",
              " 'so',\n",
              " 'some',\n",
              " 'such',\n",
              " 't',\n",
              " 'than',\n",
              " 'that',\n",
              " \"that'll\",\n",
              " 'the',\n",
              " 'their',\n",
              " 'theirs',\n",
              " 'them',\n",
              " 'themselves',\n",
              " 'then',\n",
              " 'there',\n",
              " 'these',\n",
              " 'they',\n",
              " 'this',\n",
              " 'those',\n",
              " 'through',\n",
              " 'to',\n",
              " 'too',\n",
              " 'under',\n",
              " 'until',\n",
              " 'up',\n",
              " 've',\n",
              " 'very',\n",
              " 'was',\n",
              " 'wasn',\n",
              " \"wasn't\",\n",
              " 'we',\n",
              " 'were',\n",
              " 'weren',\n",
              " \"weren't\",\n",
              " 'what',\n",
              " 'when',\n",
              " 'where',\n",
              " 'which',\n",
              " 'while',\n",
              " 'who',\n",
              " 'whom',\n",
              " 'why',\n",
              " 'will',\n",
              " 'with',\n",
              " 'won',\n",
              " \"won't\",\n",
              " 'wouldn',\n",
              " \"wouldn't\",\n",
              " 'y',\n",
              " 'you',\n",
              " \"you'd\",\n",
              " \"you'll\",\n",
              " \"you're\",\n",
              " \"you've\",\n",
              " 'your',\n",
              " 'yours',\n",
              " 'yourself',\n",
              " 'yourselves'}"
            ]
          },
          "metadata": {},
          "execution_count": 13
        }
      ]
    },
    {
      "cell_type": "code",
      "source": [
        "filtered_words_boardresolution= [word for word in small_letter_words if word not in stopwords_nltk]"
      ],
      "metadata": {
        "id": "YgPsOq0XMKdN"
      },
      "execution_count": null,
      "outputs": []
    },
    {
      "cell_type": "code",
      "source": [
        "filtered_words_boardresolution"
      ],
      "metadata": {
        "id": "C633i7yWMm1F",
        "colab": {
          "base_uri": "https://localhost:8080/"
        },
        "outputId": "901bec26-d56b-4324-d23e-0561b76d2b27"
      },
      "execution_count": null,
      "outputs": [
        {
          "output_type": "execute_result",
          "data": {
            "text/plain": [
              "['board',\n",
              " 'resolution',\n",
              " 'meeting',\n",
              " 'board',\n",
              " 'directors',\n",
              " 'following',\n",
              " 'resolutions',\n",
              " 'proposed',\n",
              " 'approved',\n",
              " 'person',\n",
              " 'whose',\n",
              " 'name',\n",
              " 'set',\n",
              " 'forth',\n",
              " 'exhibit',\n",
              " 'shall',\n",
              " 'granted',\n",
              " 'option',\n",
              " 'collectively',\n",
              " 'purchase',\n",
              " 'number',\n",
              " 'shares',\n",
              " 'common',\n",
              " 'stock',\n",
              " 'listed',\n",
              " 'exhibit',\n",
              " 'option',\n",
              " 'vesting',\n",
              " 'terms',\n",
              " 'conditions',\n",
              " 'grant',\n",
              " 'set',\n",
              " 'forth',\n",
              " 'stock',\n",
              " 'option',\n",
              " 'dated',\n",
              " 'stock',\n",
              " 'option',\n",
              " 'agreement',\n",
              " 'executed',\n",
              " 'person',\n",
              " 'granted',\n",
              " 'board',\n",
              " 'considered',\n",
              " 'following',\n",
              " 'factors',\n",
              " 'determining',\n",
              " 'fair',\n",
              " 'market',\n",
              " 'value',\n",
              " 'common',\n",
              " 'value',\n",
              " 'tangible',\n",
              " 'intangible',\n",
              " 'assets',\n",
              " 'present',\n",
              " 'value',\n",
              " 'future',\n",
              " 'cash',\n",
              " 'public',\n",
              " 'trading',\n",
              " 'price',\n",
              " 'private',\n",
              " 'sale',\n",
              " 'price',\n",
              " 'comparable',\n",
              " 'control',\n",
              " 'premiums',\n",
              " 'discounts',\n",
              " 'lack',\n",
              " 'whether',\n",
              " 'method',\n",
              " 'used',\n",
              " 'whether',\n",
              " 'available',\n",
              " 'information',\n",
              " 'taken',\n",
              " 'account',\n",
              " 'determining',\n",
              " 'accordance',\n",
              " 'board',\n",
              " 'determined',\n",
              " 'fair',\n",
              " 'market',\n",
              " 'value',\n",
              " 'common',\n",
              " 'stock',\n",
              " 'per',\n",
              " 'based',\n",
              " 'factors',\n",
              " 'analysis',\n",
              " 'detailed',\n",
              " 'fair',\n",
              " 'market',\n",
              " 'value',\n",
              " 'common',\n",
              " 'stock',\n",
              " 'date',\n",
              " 'hereof',\n",
              " 'hereby',\n",
              " 'determined',\n",
              " 'resolved',\n",
              " 'unless',\n",
              " 'otherwise',\n",
              " 'set',\n",
              " 'forth',\n",
              " 'exhibit',\n",
              " 'exercise',\n",
              " 'price',\n",
              " 'options',\n",
              " 'shall',\n",
              " 'per',\n",
              " 'exhibit',\n",
              " 'stock',\n",
              " 'option',\n",
              " 'grants',\n",
              " 'name',\n",
              " 'number',\n",
              " 'shares',\n",
              " 'stock',\n",
              " 'plan',\n",
              " 'vesting',\n",
              " 'schedule']"
            ]
          },
          "metadata": {},
          "execution_count": 15
        }
      ]
    },
    {
      "cell_type": "code",
      "source": [
        "from nltk.stem import WordNetLemmatizer\n",
        "  \n",
        "lemmatizer = WordNetLemmatizer()\n",
        "nltk.download()"
      ],
      "metadata": {
        "id": "S-ONxiS4NS1C",
        "colab": {
          "base_uri": "https://localhost:8080/"
        },
        "outputId": "9a995969-e45f-4c46-a1ce-f4969a6a54fe"
      },
      "execution_count": null,
      "outputs": [
        {
          "name": "stdout",
          "output_type": "stream",
          "text": [
            "NLTK Downloader\n",
            "---------------------------------------------------------------------------\n",
            "    d) Download   l) List    u) Update   c) Config   h) Help   q) Quit\n",
            "---------------------------------------------------------------------------\n",
            "Downloader> d\n",
            "\n",
            "Download which package (l=list; x=cancel)?\n",
            "  Identifier> all\n"
          ]
        },
        {
          "output_type": "stream",
          "name": "stderr",
          "text": [
            "    Downloading collection 'all'\n",
            "       | \n",
            "       | Downloading package abc to /root/nltk_data...\n",
            "       |   Unzipping corpora/abc.zip.\n",
            "       | Downloading package alpino to /root/nltk_data...\n",
            "       |   Unzipping corpora/alpino.zip.\n",
            "       | Downloading package averaged_perceptron_tagger to\n",
            "       |     /root/nltk_data...\n",
            "       |   Unzipping taggers/averaged_perceptron_tagger.zip.\n",
            "       | Downloading package averaged_perceptron_tagger_ru to\n",
            "       |     /root/nltk_data...\n",
            "       |   Unzipping taggers/averaged_perceptron_tagger_ru.zip.\n",
            "       | Downloading package basque_grammars to /root/nltk_data...\n",
            "       |   Unzipping grammars/basque_grammars.zip.\n",
            "       | Downloading package bcp47 to /root/nltk_data...\n",
            "       | Downloading package biocreative_ppi to /root/nltk_data...\n",
            "       |   Unzipping corpora/biocreative_ppi.zip.\n",
            "       | Downloading package bllip_wsj_no_aux to /root/nltk_data...\n",
            "       |   Unzipping models/bllip_wsj_no_aux.zip.\n",
            "       | Downloading package book_grammars to /root/nltk_data...\n",
            "       |   Unzipping grammars/book_grammars.zip.\n",
            "       | Downloading package brown to /root/nltk_data...\n",
            "       |   Unzipping corpora/brown.zip.\n",
            "       | Downloading package brown_tei to /root/nltk_data...\n",
            "       |   Unzipping corpora/brown_tei.zip.\n",
            "       | Downloading package cess_cat to /root/nltk_data...\n",
            "       |   Unzipping corpora/cess_cat.zip.\n",
            "       | Downloading package cess_esp to /root/nltk_data...\n",
            "       |   Unzipping corpora/cess_esp.zip.\n",
            "       | Downloading package chat80 to /root/nltk_data...\n",
            "       |   Unzipping corpora/chat80.zip.\n",
            "       | Downloading package city_database to /root/nltk_data...\n",
            "       |   Unzipping corpora/city_database.zip.\n",
            "       | Downloading package cmudict to /root/nltk_data...\n",
            "       |   Unzipping corpora/cmudict.zip.\n",
            "       | Downloading package comparative_sentences to\n",
            "       |     /root/nltk_data...\n",
            "       |   Unzipping corpora/comparative_sentences.zip.\n",
            "       | Downloading package comtrans to /root/nltk_data...\n",
            "       | Downloading package conll2000 to /root/nltk_data...\n",
            "       |   Unzipping corpora/conll2000.zip.\n",
            "       | Downloading package conll2002 to /root/nltk_data...\n",
            "       |   Unzipping corpora/conll2002.zip.\n",
            "       | Downloading package conll2007 to /root/nltk_data...\n",
            "       | Downloading package crubadan to /root/nltk_data...\n",
            "       |   Unzipping corpora/crubadan.zip.\n",
            "       | Downloading package dependency_treebank to /root/nltk_data...\n",
            "       |   Unzipping corpora/dependency_treebank.zip.\n",
            "       | Downloading package dolch to /root/nltk_data...\n",
            "       |   Unzipping corpora/dolch.zip.\n",
            "       | Downloading package europarl_raw to /root/nltk_data...\n",
            "       |   Unzipping corpora/europarl_raw.zip.\n",
            "       | Downloading package extended_omw to /root/nltk_data...\n",
            "       | Downloading package floresta to /root/nltk_data...\n",
            "       |   Unzipping corpora/floresta.zip.\n",
            "       | Downloading package framenet_v15 to /root/nltk_data...\n",
            "       |   Unzipping corpora/framenet_v15.zip.\n",
            "       | Downloading package framenet_v17 to /root/nltk_data...\n",
            "       |   Unzipping corpora/framenet_v17.zip.\n",
            "       | Downloading package gazetteers to /root/nltk_data...\n",
            "       |   Unzipping corpora/gazetteers.zip.\n",
            "       | Downloading package genesis to /root/nltk_data...\n",
            "       |   Unzipping corpora/genesis.zip.\n",
            "       | Downloading package gutenberg to /root/nltk_data...\n",
            "       |   Unzipping corpora/gutenberg.zip.\n",
            "       | Downloading package ieer to /root/nltk_data...\n",
            "       |   Unzipping corpora/ieer.zip.\n",
            "       | Downloading package inaugural to /root/nltk_data...\n",
            "       |   Unzipping corpora/inaugural.zip.\n",
            "       | Downloading package indian to /root/nltk_data...\n",
            "       |   Unzipping corpora/indian.zip.\n",
            "       | Downloading package jeita to /root/nltk_data...\n",
            "       | Downloading package kimmo to /root/nltk_data...\n",
            "       |   Unzipping corpora/kimmo.zip.\n",
            "       | Downloading package knbc to /root/nltk_data...\n",
            "       | Downloading package large_grammars to /root/nltk_data...\n",
            "       |   Unzipping grammars/large_grammars.zip.\n",
            "       | Downloading package lin_thesaurus to /root/nltk_data...\n",
            "       |   Unzipping corpora/lin_thesaurus.zip.\n",
            "       | Downloading package mac_morpho to /root/nltk_data...\n",
            "       |   Unzipping corpora/mac_morpho.zip.\n",
            "       | Downloading package machado to /root/nltk_data...\n",
            "       | Downloading package masc_tagged to /root/nltk_data...\n",
            "       | Downloading package maxent_ne_chunker to /root/nltk_data...\n",
            "       |   Unzipping chunkers/maxent_ne_chunker.zip.\n",
            "       | Downloading package maxent_treebank_pos_tagger to\n",
            "       |     /root/nltk_data...\n",
            "       |   Unzipping taggers/maxent_treebank_pos_tagger.zip.\n",
            "       | Downloading package moses_sample to /root/nltk_data...\n",
            "       |   Unzipping models/moses_sample.zip.\n",
            "       | Downloading package movie_reviews to /root/nltk_data...\n",
            "       |   Unzipping corpora/movie_reviews.zip.\n",
            "       | Downloading package mte_teip5 to /root/nltk_data...\n",
            "       |   Unzipping corpora/mte_teip5.zip.\n",
            "       | Downloading package mwa_ppdb to /root/nltk_data...\n",
            "       |   Unzipping misc/mwa_ppdb.zip.\n",
            "       | Downloading package names to /root/nltk_data...\n",
            "       |   Unzipping corpora/names.zip.\n",
            "       | Downloading package nombank.1.0 to /root/nltk_data...\n",
            "       | Downloading package nonbreaking_prefixes to\n",
            "       |     /root/nltk_data...\n",
            "       |   Unzipping corpora/nonbreaking_prefixes.zip.\n",
            "       | Downloading package nps_chat to /root/nltk_data...\n",
            "       |   Unzipping corpora/nps_chat.zip.\n",
            "       | Downloading package omw to /root/nltk_data...\n",
            "       | Downloading package omw-1.4 to /root/nltk_data...\n",
            "       | Downloading package opinion_lexicon to /root/nltk_data...\n",
            "       |   Unzipping corpora/opinion_lexicon.zip.\n",
            "       | Downloading package panlex_swadesh to /root/nltk_data...\n",
            "       | Downloading package paradigms to /root/nltk_data...\n",
            "       |   Unzipping corpora/paradigms.zip.\n",
            "       | Downloading package pe08 to /root/nltk_data...\n",
            "       |   Unzipping corpora/pe08.zip.\n",
            "       | Downloading package perluniprops to /root/nltk_data...\n",
            "       |   Unzipping misc/perluniprops.zip.\n",
            "       | Downloading package pil to /root/nltk_data...\n",
            "       |   Unzipping corpora/pil.zip.\n",
            "       | Downloading package pl196x to /root/nltk_data...\n",
            "       |   Unzipping corpora/pl196x.zip.\n",
            "       | Downloading package porter_test to /root/nltk_data...\n",
            "       |   Unzipping stemmers/porter_test.zip.\n",
            "       | Downloading package ppattach to /root/nltk_data...\n",
            "       |   Unzipping corpora/ppattach.zip.\n",
            "       | Downloading package problem_reports to /root/nltk_data...\n",
            "       |   Unzipping corpora/problem_reports.zip.\n",
            "       | Downloading package product_reviews_1 to /root/nltk_data...\n",
            "       |   Unzipping corpora/product_reviews_1.zip.\n",
            "       | Downloading package product_reviews_2 to /root/nltk_data...\n",
            "       |   Unzipping corpora/product_reviews_2.zip.\n",
            "       | Downloading package propbank to /root/nltk_data...\n",
            "       | Downloading package pros_cons to /root/nltk_data...\n",
            "       |   Unzipping corpora/pros_cons.zip.\n",
            "       | Downloading package ptb to /root/nltk_data...\n",
            "       |   Unzipping corpora/ptb.zip.\n",
            "       | Downloading package punkt to /root/nltk_data...\n",
            "       |   Unzipping tokenizers/punkt.zip.\n",
            "       | Downloading package qc to /root/nltk_data...\n",
            "       |   Unzipping corpora/qc.zip.\n",
            "       | Downloading package reuters to /root/nltk_data...\n",
            "       | Downloading package rslp to /root/nltk_data...\n",
            "       |   Unzipping stemmers/rslp.zip.\n",
            "       | Downloading package rte to /root/nltk_data...\n",
            "       |   Unzipping corpora/rte.zip.\n",
            "       | Downloading package sample_grammars to /root/nltk_data...\n",
            "       |   Unzipping grammars/sample_grammars.zip.\n",
            "       | Downloading package semcor to /root/nltk_data...\n",
            "       | Downloading package senseval to /root/nltk_data...\n",
            "       |   Unzipping corpora/senseval.zip.\n",
            "       | Downloading package sentence_polarity to /root/nltk_data...\n",
            "       |   Unzipping corpora/sentence_polarity.zip.\n",
            "       | Downloading package sentiwordnet to /root/nltk_data...\n",
            "       |   Unzipping corpora/sentiwordnet.zip.\n",
            "       | Downloading package shakespeare to /root/nltk_data...\n",
            "       |   Unzipping corpora/shakespeare.zip.\n",
            "       | Downloading package sinica_treebank to /root/nltk_data...\n",
            "       |   Unzipping corpora/sinica_treebank.zip.\n",
            "       | Downloading package smultron to /root/nltk_data...\n",
            "       |   Unzipping corpora/smultron.zip.\n",
            "       | Downloading package snowball_data to /root/nltk_data...\n",
            "       | Downloading package spanish_grammars to /root/nltk_data...\n",
            "       |   Unzipping grammars/spanish_grammars.zip.\n",
            "       | Downloading package state_union to /root/nltk_data...\n",
            "       |   Unzipping corpora/state_union.zip.\n",
            "       | Downloading package stopwords to /root/nltk_data...\n",
            "       |   Package stopwords is already up-to-date!\n",
            "       | Downloading package subjectivity to /root/nltk_data...\n",
            "       |   Unzipping corpora/subjectivity.zip.\n",
            "       | Downloading package swadesh to /root/nltk_data...\n",
            "       |   Unzipping corpora/swadesh.zip.\n",
            "       | Downloading package switchboard to /root/nltk_data...\n",
            "       |   Unzipping corpora/switchboard.zip.\n",
            "       | Downloading package tagsets to /root/nltk_data...\n",
            "       |   Unzipping help/tagsets.zip.\n",
            "       | Downloading package timit to /root/nltk_data...\n",
            "       |   Unzipping corpora/timit.zip.\n",
            "       | Downloading package toolbox to /root/nltk_data...\n",
            "       |   Unzipping corpora/toolbox.zip.\n",
            "       | Downloading package treebank to /root/nltk_data...\n",
            "       |   Unzipping corpora/treebank.zip.\n",
            "       | Downloading package twitter_samples to /root/nltk_data...\n",
            "       |   Unzipping corpora/twitter_samples.zip.\n",
            "       | Downloading package udhr to /root/nltk_data...\n",
            "       |   Unzipping corpora/udhr.zip.\n",
            "       | Downloading package udhr2 to /root/nltk_data...\n",
            "       |   Unzipping corpora/udhr2.zip.\n",
            "       | Downloading package unicode_samples to /root/nltk_data...\n",
            "       |   Unzipping corpora/unicode_samples.zip.\n",
            "       | Downloading package universal_tagset to /root/nltk_data...\n",
            "       |   Unzipping taggers/universal_tagset.zip.\n",
            "       | Downloading package universal_treebanks_v20 to\n",
            "       |     /root/nltk_data...\n",
            "       | Downloading package vader_lexicon to /root/nltk_data...\n",
            "       | Downloading package verbnet to /root/nltk_data...\n",
            "       |   Unzipping corpora/verbnet.zip.\n",
            "       | Downloading package verbnet3 to /root/nltk_data...\n",
            "       |   Unzipping corpora/verbnet3.zip.\n",
            "       | Downloading package webtext to /root/nltk_data...\n",
            "       |   Unzipping corpora/webtext.zip.\n",
            "       | Downloading package wmt15_eval to /root/nltk_data...\n",
            "       |   Unzipping models/wmt15_eval.zip.\n",
            "       | Downloading package word2vec_sample to /root/nltk_data...\n",
            "       |   Unzipping models/word2vec_sample.zip.\n",
            "       | Downloading package wordnet to /root/nltk_data...\n",
            "       | Downloading package wordnet2021 to /root/nltk_data...\n",
            "       | Downloading package wordnet31 to /root/nltk_data...\n",
            "       | Downloading package wordnet_ic to /root/nltk_data...\n",
            "       |   Unzipping corpora/wordnet_ic.zip.\n",
            "       | Downloading package words to /root/nltk_data...\n",
            "       |   Unzipping corpora/words.zip.\n",
            "       | Downloading package ycoe to /root/nltk_data...\n",
            "       |   Unzipping corpora/ycoe.zip.\n",
            "       | \n",
            "     Done downloading collection all\n"
          ]
        },
        {
          "name": "stdout",
          "output_type": "stream",
          "text": [
            "\n",
            "---------------------------------------------------------------------------\n",
            "    d) Download   l) List    u) Update   c) Config   h) Help   q) Quit\n",
            "---------------------------------------------------------------------------\n",
            "Downloader> q\n"
          ]
        },
        {
          "output_type": "execute_result",
          "data": {
            "text/plain": [
              "True"
            ]
          },
          "metadata": {},
          "execution_count": 16
        }
      ]
    },
    {
      "cell_type": "code",
      "source": [
        "with open(\"../content/Amendment Contract.txt\") as file:amendment_contract = file.read()\n",
        "amendment_contract"
      ],
      "metadata": {
        "id": "VLw3YOzzTlG5",
        "colab": {
          "base_uri": "https://localhost:8080/",
          "height": 251
        },
        "outputId": "d795bafd-97b5-4ed1-f656-78ccb3b6ecf8"
      },
      "execution_count": null,
      "outputs": [
        {
          "output_type": "execute_result",
          "data": {
            "text/plain": [
              "'Amendment to [AGREEMENT NAME] \\n\\nThis amendment to the [AGREEMENT NAME] dated [EFFECTIVE DATE OF AGREEMENT] (the \\n\"Agreement\") is made on [AMENDMENT EFFECTIVE DATE] between [PARTY A NAME], a [CORPORATE \\nJURISDICTION] corporation with its principal place of business at [PARTY A ADDRESS] (the \"[PARTY A \\nABBREVIATION]\") and [PARTY B NAME], a [CORPORATE JURISDICTION] corporation with its principal \\nplace of business at [PARTY B ADDRESS] (the \"[PARTY B ABBREVIATION]\"). \\n\\n1. Capitalized Terms. Unless otherwise defined in this amendment, capitalized terms used in this \\namendment will have the same meaning they do in the Agreement. \\n2. Substance of Amendment. The parties hereby amend the Agreement as follows: \\n[LIST THE CHANGES, ADDITIONS, DELETIONS, ETC. TO BE MADE TO THE UNDERLYING AGREEMENT] \\n\\n3. Continuing Effect. Except as listed in section [SUBSTANCE OF AMENDMENT], the Agreement will \\nbe unaffected and continue in full force and effect under its terms. \\n4. Conflicting Amendments. If there is any conflict between the terms of this amendment and those \\nof any earlier amendment to the Agreement, the terms of this amendment will control. \\nThis agreement has been signed by the parties. \\n[PARTY A NAME] [PARTY B NAME] \\nName: [PARTY A SIGNATORY NAME] Name: [PARTY B SIGNATORY NAME] \\nTitle: [PARTY A SIGNATORY TITLE] Title: [PARTY B SIGNATORY TITLE] \\n\\n1 of 1 \\n\\n\\x0c\\n'"
            ],
            "application/vnd.google.colaboratory.intrinsic+json": {
              "type": "string"
            }
          },
          "metadata": {},
          "execution_count": 17
        }
      ]
    },
    {
      "cell_type": "code",
      "source": [
        "with open(\"../content/Software License Agreement Contract.txt\") as file:software_license_agreement = file.read()\n",
        "software_license_agreement"
      ],
      "metadata": {
        "id": "ot-bcGzZYvll",
        "colab": {
          "base_uri": "https://localhost:8080/",
          "height": 251
        },
        "outputId": "0d4bdfc3-abc3-48e1-c1be-26957c6099be"
      },
      "execution_count": null,
      "outputs": [
        {
          "output_type": "execute_result",
          "data": {
            "text/plain": [
              "'Software License Agreement \\n\\nThis Software License Agreement is made on [AGREEMENT DATE] between [LICENSOR NAME], a \\n[CORPORATE JURISDICTION] corporation with its principal place of business at [LICENSOR ADDRESS] \\n(\"[PARTY A]\") and [LICENSEE NAME], a [CORPORATE JURISDICTION] corporation with its principal \\nplace of business at [LICENSEE ADDRESS] (\"[PARTY B]\"). \\n\\nThe parties agree to the terms of this agreement. \\n\\n1. License Grant \\n1.1 Software License. [PARTY A] hereby grants to [PARTY B] [an exclusive / a non-exclusive], \\n[transferable / non-transferable], [sublicensable / non-sublicensable], [revocable / irrevocable] \\nlicense (the \"[DELIVERABLE]\") to use the Software. \\n1.2 No Other Rights. [PARTY A] reserves for itself all other rights and interest not explicitly granted \\nunder this agreement. \\n1.3 Software. \"Software\" means [SHORT DESCRIPTION OF SOFTWARE] [the software described in the \\n[ATTACHMENT], attached to this agreement]. \\n2. Make Software Available for Download. On the later of the Effective Date and [PARTY B]\\'s first \\npayment for the Software, [PARTY A] will make the Software available to [PARTY B] in an electronic, \\ndownloadable format from [PARTY A]\\'s website, at [INSERT URL OF WEBSITE]. \\n3. Training and Support Services \\n3.1 Training. [PARTY A] shall, at [PARTY A]\\'s expense, provide [PARTY B]\\'s employees with the initial \\ntraining services necessary and desirable to operate the Software, as further described in the \\n[ATTACHMENT], attached to this agreement, at [PARTY B]\\'s offices and on days and times the parties \\nagree to in writing. \\n3.2 Support \\na. Initial Support. For the [12] month period beginning on the Effective Date, and at [PARTY \\nA]\\'s own expense, [PARTY A] shall provide [PARTY B] with \\ni. telephone or electronic support during [PARTY A]\\'s normal business hours in order to \\nhelp [PARTY B] locate and correct problems with the Software, and \\nii. internet-based support system generally available seven days a week, twenty-four \\nhours a day. \\nb. Renewed Support. After the initial [12] month support period, [PARTY B] may elect to \\nrenew [PARTY A]\\'s support services under this paragraph [SUPPORT] for additional [12] \\nmonth periods, at [PARTY A]\\'s then-current service rates. \\n4. Updates and Maintenance Services \\n4.1 Updates. [PARTY A] shall provide [PARTY B], at [PARTY A]\\'s sole expense, with all updates, \\nextensions, enhancement, modifications, and other changes [PARTY A] makes or adds to the \\nSoftware and which [PARTY A] offers to other licensees of the Software. \\n1 of 11 \\n\\n\\x0c\\n4.2 Fixes and Patches. [PARTY A] shall provide [PARTY B], at [PARTY A]\\'s sole expense, with bug fixes \\nand code corrections to correct Software malfunctions and defects in order to bring the \\nSoftware into substantial conformity with its operating specifications. \\n4.3 Exceptions. [PARTY A] may, but will not be required to, provide these maintenance services if \\n[PARTY B] has modified the Software or is in default. \\n5. License Fees. [PARTY B] will pay [PARTY A] the license fee [of $[LICENSE FEE] / listed in \\n[ATTACHMENT]] (the \"License Fee\"). \\n6. License Fees \\n6.1 License Fee Paid in Full. [PARTY B] will pay the License Fee to [PARTY A] \\na. in full, \\nb. due on [DATE, MONTH], \\nc. in immediately available funds, and \\nd. to the account [PARTY A] lists immediately below: \\nAccount Number: \\n\\nRouting Number: \\n\\n7. Taxes. Payment amounts under this agreement do not include Taxes. [PARTY B] will pay all Taxes \\napplicable to payments between the parties under this agreement. \\n8. Interest on Late Payments. Any amount not paid when due will bear interest from the due date \\nuntil paid at a rate equal to [1]% per month ([12.68]% annually) or the maximum allowed by Law, \\nwhichever is less. \\n9. User Obligations \\n9.1 Hardware Obligations. [PARTY B] shall be responsible for \\na. obtaining and maintaining all computer hardware, software, and communications \\nequipment needed to internally access the Service, and \\nb. paying all third party access charges incurred while using the Service. \\n9.2 Anti-Virus Obligations. [PARTY B] shall be responsible for implementing, maintaining, and \\nupdating all necessary and proper procedures and software for safeguarding against computer \\ninfection, viruses, worms, Trojan horses, and other code that manifest contaminating or destructive \\nproperties (collectively \"Viruses\"). \\n9.3 [PARTY B]\\'s Use of Services. [PARTY B] shall \\na. abide by all local and international Laws and regulations applicable to its use of \\nthe Service, \\nb. use the Service only for legal purposes, and \\nc. comply with all regulations, policies and procedures of networks connected to the \\nService. \\n10. Restricted Uses. [PARTY B] will not \\n2 of 11 \\n\\n\\x0c\\n10.1 distribute, license, loan, or sell the Software or other content that is contained or displayed in it, \\n10.2 modify, alter, or create any derivative works from the Software, \\n10.3 reverse engineer, decompile, decode, decrypt, disassemble, or derive any source code from the \\nSoftware, \\n10.4 remove, alter, or obscure any copyright, trademark, or other proprietary rights notice on or in \\nthe Software. \\n11. Permitted Uses \\n11.1 Installation. [PARTY B] may install and use the Software solely for [personal, noncommercial][\\ninternal business] use. \\n11.2 Evaluation Use. If [PARTY B] has ordered an evaluation license, [PARTY B] may use the Software \\nonly for evaluation purposes and only during the applicable evaluation period. \\n11.3 Server Deployment. [PARTY B] may install [NUMBER OF SERVER COPIES] of copies of the \\nSoftware on an internal file server for purposes of downloading and installing the Software on \\nlicensed computers within the same internal network. \\n11.4 Home Use. [PARTY B] may install a copy of the Software on a personal or home computer, \\nprovided both copies of the Software are not used at the same time. \\n11.5 Backup and Archival Copies. [PARTY B] may make one copy of the Software solely for backup or \\narchival purposes. \\n12. Term. This agreement begins on [the Effective Date / [DATE, MONTH]] and will continue until \\nterminated (the \"Term\"). \\n13. Representations \\n13.1 Mutual Representations \\na. Existence. The parties are corporations incorporated and existing under the laws of the \\njurisdictions of their respective incorporation. \\nb. Authority and Capacity. The parties have the authority and capacity to enter into this \\nagreement. \\nc. Execution and Delivery. The parties have duly executed and delivered this agreement. \\nd. Enforceability. This agreement constitutes a legal, valid, and binding obligation, \\nenforceable against the parties according to its terms. \\ne. No Conflicts. Neither party is under any restriction or obligation that the party could \\nreasonably expect might affect the party\\'s performance of its obligations under this \\nagreement. \\nf. No Breach. Neither party’s execution, delivery, or performance of its obligations under \\nthis agreement will breach or result in a default under \\ni. its articles, bylaws, or any unanimous shareholders agreement, \\nii. any Law to which it is subject, \\niii. any judgment, Order, or decree of any Governmental Authority to which it is subject, \\nor \\niv. any agreement to which it is a party or by which it is bound. \\n3 of 11 \\n\\n\\x0c\\ng. Permits, Consents, and Other Authorizations. Each party holds all Permits and other \\nauthorizations necessary to \\ni. own, lease, and operate its properties, and \\nii. conduct its business as it is now carried on. \\nh. No Disputes or Proceedings. [Except as disclosed in the parties respective Disclosure \\nSchedules] There are no Legal Proceedings pending, threatened, or foreseeable against \\neither party, which would affect that party’s ability to complete its obligations under this \\nagreement. \\ni. No Bankruptcy. Neither party has taken or authorized any proceedings related to that \\nparty’s bankruptcy, insolvency, liquidation, dissolution, or winding up. \\n13.2 [PARTY A]\\'s Representations \\na. Disclosure Schedule. [PARTY A]\\'s Disclosure Schedule lists any exceptions to \\nits representations. \\nb. Ownership of Intellectual Property. [Except as disclosed in [PARTY A]\\'s Disclosure \\nSchedule] [PARTY A] \\ni. is the owner of all Intellectual Property rights included in the Software and \\ngranted under in the [DELIVERABLE], and \\nii. has the exclusive right to grant the [DELIVERABLE]. \\nc. Maintenance of Intellectual Property. [PARTY A] has properly maintained all its \\nIntellectual Property rights licensed under the [DELIVERABLE], including paying all \\napplicable registration and maintenance fees. \\nd. No Prior Grant or Transfer. [PARTY A] has not granted and is not obligated to grant any \\nlicense to any third party that would conflict with the [DELIVERABLE] under this \\nagreement \\ne. No Infringement. [To [PARTY A]\\'s Knowledge,] The Software does not infringe the \\nIntellectual Property rights or other rights of any third party. \\nf. No Third Party Infringement. [Except as disclosed in [PARTY A]\\'s Disclosure Schedule] To \\n[PARTY A]\\'s Knowledge, no third party is infringing its Intellectual Property rights in \\nthe Software. \\ng. Not in Public Domain. The Software is not in the public domain. \\n14. No Warranty \\n14.1 \"As-Is\". The [Licensed] Software is provided \"as is,\" with all faults, defects, bugs, and errors. \\n14.2 No Warranty. Unless otherwise listed in this agreement, \\na. [PARTY A] does not make any warranty regarding the [Licensed] Software, which includes \\nthat \\nb. [PARTY A] disclaims to the [fullest] extent authorized by Law any and all [other] \\nwarranties, whether express or implied, including any implied warranties of [title, non-\\ninfringement, quiet enjoyment, integration,] merchantability or fitness for a particular \\n4 of 11 \\n\\n\\x0c\\npurpose. \\n\\n15. Intellectual Property. [PARTY A] will retain exclusive interest in and ownership of its Intellectual \\nProperty rights in and to the Software and expressly reserves all rights not expressly granted under \\nthis agreement. \\n16. Government End Users \\n16.1 \"Commercial Software\". If [Licensed] Software and related documentation are supplied to or \\npurchased by or on behalf of the United States Government, \\na. that [Licensed] Software will be deemed to be \"commercial software\", as that term is \\nused in the Federal Acquisition Regulation system, and \\nb. the rights of the United States will not exceed the minimum rights listed in FAR 52.227-19 \\nfor \"restricted computer software\". \\n16.2 All Other Terms Apply. All other terms and conditions of this agreement otherwise apply. \\n17. [PARTY B] Data \\n17.1 Collect and Use of Data. [PARTY A] may collect and use technical information gathered as part \\nof its maintenance, support, and training services, only for the purpose of improving its products and \\nservices. \\n17.2 Non-Disclosure. [PARTY A] will not disclose this any of this information in a form that personally \\nidentifies [PARTY B] or [PARTY B]\\'s clients. \\n18. Compliance with Laws. Each party will \\n18.1 comply with all applicable Laws [relating to [SUBJECT MATTER OF AGREEMENT]], and \\n18.2 notify the other party if it becomes aware of any non-compliance in connection with this \\nsection. \\n19. Export Control Laws. Each party shall obtain all Permits necessary to and otherwise comply with \\nall Laws on export control applicable to this agreement and all transactions contemplated under this \\nagreement. \\n20. Source Code Escrow. On [PARTY B]\\'s written request, [PARTY A] shall place the source code for \\nthe Software into escrow with [ESCROW COMPANY NAME] (the \"Escrow Company\") for [PARTY \\nB]\\'s benefit, subject to [PARTY B]\\'s execution of (and the terms and conditions of) [PARTY A]\\'s \\nstandard form of Software Escrow Agreement with Escrow Company and [PARTY B]\\'s payment of all \\napplicable escrow fees. \\n21. Confidentiality Obligations. The parties continue to be bound by the terms of the non-disclosure \\nagreement between the parties, dated [DATE] and attached to this agreement on [ATTACHMENT]. \\n22. Publicity \\n22.1 Consent. Neither party will use the other party\\'s name, logo, or trademarks, or issue any press \\nrelease or public announcement regarding this agreement, without the other party\\'s written \\nconsent, unless specifically permitted under this agreement or required by Law. \\n5 of 11 \\n\\n\\x0c\\n22.2 Cooperation. The parties will cooperate to draft all appropriate press releases and other public \\nannouncements relating to the subject matter of this agreement and the relationship between the \\nparties. \\n22.3 No Unreasonable Delay. The parties will not unreasonably withhold or delay their consent to \\npress releases or public announcements. \\n23. Termination \\n23.1 Termination on Notice. Either party may terminate this agreement for any reason on \\n[TERMINATION NOTICE BUSINESS DAYS] Business Days’ \\nnotice to the other party. \\n23.2 Termination for Material Breach. Each party may terminate this agreement with immediate \\neffect by delivering notice of the termination to the other party, if \\na. the other party fails to perform, has made or makes any inaccuracy in, or otherwise \\nmaterially breaches, any of its obligations, covenants, or representations, and \\nb. the failure, inaccuracy, or breach continues for a period of [BREACH CONTINUATION \\nDAYS] Business Days\\' after the injured party delivers notice to the breaching party \\nreasonably detailing the breach. \\n24. Effect of Termination \\n24.1 Payment Obligations. On the expiration or termination of this agreement, each party shall \\na. pay any amounts it owes to the other party, including payment obligations for services \\nalready rendered, work already performed, goods already delivered, or expenses already \\nincurred, and \\nb. refund any payments received but not yet earned, including payments for services not \\nrendered, work not performed, or goods not delivered, expenses forwarded. \\n24.2 Termination of License Grant. On the expiration or termination of this agreement the \\n[DELIVERABLE] granted under this agreement will terminate with immediate effect. \\n25. Return of Property. On termination or expiration of this agreement, or on [PARTY A]\\'s request, \\n[PARTY B] will \\n25.1 return to [PARTY A] all originals of the information and other property, including Intellectual \\nProperty, it received from [PARTY A], \\n25.2 destroy all copies of such information and other property it has in its possession or control, and \\n25.3 on [PARTY A]\\'s request, certify to [PARTY A] in writing that it destroyed all such copies. \\n26. Indemnification \\n26.1 Indemnification by [PARTY B]. [PARTY B] (as an indemnifying party) shall indemnify [PARTY \\nA] (as an indemnified party) against all losses and expenses in connection with any \\nproceeding arising out of \\na. [PARTY B]\\'s use of the Software, and \\n6 of 11 \\n\\n\\x0c\\nb. [PARTY B]\\'s unauthorized customization, modification, or other alterations to the \\nSoftware, including claims that its customization, modification, or other alterations \\ninfringe a third party\\'s Intellectual Property rights, \\n26.2 Mutual Indemnification. Each party (as an indemnifying party) shall indemnify the other (as an \\nindemnified party) against all losses in connection with any proceeding arising out of the \\nindemnifying party\\'s willful misconduct or gross negligence. \\n26.3 Notice and Failure to Notify \\na. Notice Requirement. Before bringing a claim for indemnification, the indemnified \\nparty shall \\ni. notify the indemnifying party of the indemnifiable proceeding, and \\nii. deliver to the indemnifying party all legal pleadings and other documents reasonably \\nnecessary to indemnify or defend the indemnifiable proceeding. \\nb. Failure to Notify. If the indemnified party fails to notify the indemnifying party of the \\nindemnifiable proceeding, the indemnifying will be relieved of its indemnification \\nobligations to the extent it was prejudiced by the indemnified party\\'s failure. \\n26.4 Exclusive Remedy. The parties\\' right to indemnification is the exclusive remedy available in \\nconnection with the indemnifiable proceedings described in this section [INDEMNIFICATION]. \\n27. Limitation on Liability. Neither party will be liable for breach-of-contract damages that are \\nremote or speculative, or that the breaching party could not reasonably have foreseen on entry into \\nthis agreement. \\n28. Definitions \\n\"Books and Records\" means all books and records, including books of account, ledgers and general, \\nfinancial and accounting records, machinery and equipment maintenance files, lists of parties to and \\nprospects for franchise agreements, supplier lists, production data, quality control records and \\nprocedures, customer complaints, inquiry files, research, development files, records, data (including \\nall correspondence with any Governmental Authority), sales material and records (including pricing \\nhistory and sales and pricing policies and practices), strategic plans, marketing and promotional \\nsurveys, and material, research, and files relating to Intellectual Property. \\n\\n\"Business Day\" means a day other than a Saturday, a Sunday, or any other day on which the principal \\nbanks located in New York, New York are not open for business. \\n\\n\"Disclosure Schedule\" means the schedules delivered, before the execution of this agreement, by \\neach party to the other party which list, among other things, items the disclosure of which is \\nnecessary or appropriate either in response to an express disclosure requirement contained in a \\nprovision of this agreement or as an exception to one or more of the representations or warranties \\nmade by the party, or to one or more of the covenants of the party. \\n\\n\"Effective Date\" is defined in the introduction to this agreement. \\n\\n7 of 11 \\n\\n\\x0c\\n[\"Escrow Company\" is defined in section [SOURCE CODE ESCROW] [INCLUDE ONLY IF INCLUDING \\nOPTIONAL SOURCE CODE ESCROW CLAUSE]] \\n\\n\"Governmental Authority\" means \\n\\n(a) any federal, state, local, or foreign government, and any political subdivision of any of them, \\n(b) any agency or instrumentality of any such government or political subdivision, \\n(c) any self-regulated organization or other non-governmental regulatory authority or quasi-\\ngovernmental authority (to the extent that its rules, regulations or orders have the force of law), and \\n(d) any arbitrator, court or tribunal of competent jurisdiction. \\n\"Intellectual Property\" means any and all of the following in any jurisdiction throughout the world \\n(a) trademarks and service marks, including all applications and registrations, and the goodwill \\nconnected with the use of and symbolized by the foregoing, \\n(b) copyrights, including all applications and registrations related to the foregoing, \\n(c) trade secrets and confidential know-how, \\n(d) patents and patent applications, \\n(e) websites and internet domain name registrations, and \\n(f) other intellectual property and related proprietary rights, interests and protections (including all \\nrights to sue and recover and retain damages, costs and attorneys\\' fees for past, present, and future \\ninfringement, and any other rights relating to any of the foregoing). \\n\"Law\" means \\n\\n(a) any law (including the common law), statute, bylaw, rule, regulation, order, ordinance, treaty, \\ndecree, judgment, and \\n(b) any official directive, protocol, code, guideline, notice, approval, order, policy, or other \\nrequirement of any Governmental Authority having the force of law. \\n\"Legal Proceeding\" means any claim, investigation, hearing, legal action, or other legal, \\nadministrative, arbitral, or similar proceeding, whether civil or criminal (including any appeal or \\nreview of any of the foregoing). \\n\\n\"License Fee\" is defined in section [LICENSE FEES]. \\n\\n\"[License Grant]\" is defined in section [LICENSE GRANT]. \\n\\n8 of 11 \\n\\n\\x0c\\n\"Order\" means any decision, order, judgment, award, or similar order of any court of competent \\njurisdiction, arbitration panel, or Governmental Authority with jurisdiction over the subject matter, \\nwhether preliminary or final. \\n\\n\"Permits\" means all material licenses, franchises, permits, certificates, approvals, and authorizations, \\nfrom Governmental Authorities necessary for the ownership and operation of the party\\'s business. \\n\\n\"Person\" includes \\n\\n(a) any corporation, company, limited liability company, partnership, Governmental Authority, joint \\nventure, fund, trust, association, syndicate, organization, or other entity or group of persons, \\nwhether incorporated or not, and \\n(b) any individual. \\n\"Software\" is defined in section [LICENSE GRANT]. \\n\\n\"Taxes\" includes all taxes, assessments, charges, duties, fees, levies, and other charges of a \\nGovernmental Authority, including income, franchise, capital stock, real property, personal property, \\ntangible, withholding, employment, payroll, social security, social contribution, unemployment \\ncompensation, disability, transfer, sales, use, excise, gross receipts, value-added and all other taxes \\nof any kind for which a party may have any liability imposed by any Governmental Authority, \\nwhether disputed or not, any related charges, interest or penalties imposed by any Governmental \\nAuthority, and any liability for any other person as a transferee or successor by Law, contract or \\notherwise. \\n\\n\"Term\" is defined in section [TERM]. \\n\\n29. General Provisions \\n29.1 Entire Agreement. The parties intend that this agreement, together with all attachments, \\nschedules, exhibits, and other documents that both are referenced in this agreement and refer to \\nthis agreement, \\na. represent the final expression of the parties\\' intent relating to the subject matter of this \\nagreement, \\nb. contain all the terms the parties agreed to relating to the subject matter, and \\nc. replace all of the parties\\' previous discussions, understandings, and agreements relating \\nto the subject matter of this agreement. \\n29.2 Counterparts \\na. Signed in Counterparts. This agreement may be signed in any number of counterparts. \\nb. All Counterparts Original. Each counterpart is an original. \\nc. Counterparts Form One Document. Together, all counterparts form one single document. \\n29.3 Amendment. This agreement can be amended only by a writing signed by both parties. \\n9 of 11 \\n\\n\\x0c\\n29.4 Relationship of the Parties \\na. No Relationship. Nothing in this agreement creates any special relationship between the \\nparties, such as a partnership, joint venture, or employee/employer relationship between \\nthe parties. \\nb. No Authority. Neither party has the authority to, and will not, act as agent for or on \\nbehalf of the other party or represent or bind the other party in any manner. \\n29.5 Assignment. Neither party may assign this agreement or any of their rights or obligations under \\nthis agreement without the other party\\'s written consent. \\n29.6 Notices \\na. Method of Notice. The parties will give all notices and communications between the \\nparties in writing by (i) personal delivery, (ii) a nationally-recognized, next-day courier \\nservice, (iii) first-class registered or certified mail, postage prepaid to the address that a \\nparty has notified to be that party\\'s address for the purposes of this section. \\nb. Receipt of Notice. A notice given under this agreement will be effective on \\ni. the other party\\'s receipt of it, or \\nii. if mailed, the earlier of the other party\\'s receipt of it and the fifth business day after \\nmailing it. \\n29.7 Governing Law and Consent to Jurisdiction and Venue \\na. Governing Law. This agreement, and any dispute arising out of the [SUBJECT MATTER OF \\nTHE AGREEMENT], shall be governed by the laws of the State of [GOVERNING LAW \\nSTATE]. \\nb. Consent to Jurisdiction. Each party hereby irrevocably consents to the [exclusive, nonexclusive] \\njurisdiction and venue of any [state or federal] court located within [VENUE \\nCOUNTY] County, State of [VENUE STATE], in connection with any matter arising out of \\nthis [agreement / plan] or the transactions contemplated under this [agreement / plan]. \\nc. Consent to Service. Each party hereby irrevocably \\ni. agrees that process may be served on it in any manner authorized by the Laws of the \\nState of [GOVERNING LAW STATE], and \\nii. waives any objection which it might otherwise have to service of process under the \\nLaws of the State of [GOVERNING LAW STATE]. \\n29.8 Dispute Resolution \\na. Arbitration. Any dispute or controversy arising out of this agreement and [SUBJECT \\nMATTER OF THE AGREEMENT] will be settled by arbitration in [STATE], according to the \\nrules of the American Arbitration Association then in effect, and by [NUMBER OF \\nARBITRATORS] arbitrators[s]. \\nb. Judgment. Judgment may be entered on the arbitrator\\'s award in any court having \\njurisdiction. \\n10 of 11 \\n\\n\\x0c\\nc. Arbitrator\\'s Authority. The arbitrator will not have the power to award any punitive [or \\nconsequential] damages. \\n29.9 Equitable Relief \\na. Acknowledgment of Irreparable Harm. Each party acknowledges that their breach or \\nthreatened breach of their obligations under this agreement would result in irreparable \\nharm to the other party that cannot be adequately relieved by money damages alone. \\nb. Intent to Allow for Equitable Remedies. Accordingly, the parties hereby acknowledge \\ntheir mutual intent that after any breach of the obligations listed in the paragraph directly \\nabove, the non-breaching party may request any applicable equitable remedies from a \\ncourt, including injunctive relief, without the need for that party to post any security. \\n29.10 Waiver \\na. Affirmative Waivers. Neither party\\'s failure or neglect to enforce any rights under this \\nagreement will be deemed to be a waiver of that party\\'s rights. \\nb. Written Waivers. A waiver or extension is only effective if it is in writing and signed by the \\nparty granting it. \\nc. No General Waivers. A party\\'s failure or neglect to enforce any of its rights under this \\nagreement will not be deemed to be a waiver of that or any other of its rights. \\nd. No Course of Dealing. No single or partial exercise of any right or remedy will preclude \\nany other or further exercise of any right or remedy. \\n29.11 Force Majeure. Neither party will be liable for performance delays nor for non-performance \\ndue to causes beyond its reasonable control, except for payment obligations. \\n29.12 Severability. If any part of this agreement is declared unenforceable or invalid, the remainder \\nwill continue to be valid and enforceable. \\n29.13 Survival. The parties\\' obligations under sections [CONFIDENTIALITY OBLIGATIONS], [NONCOMPETITION \\nOBLIGATION], and [EFFECT OF TERMINATION] will survive the [TERMINATION, \\nEXPIRATION, CLOSING DATE] of this agreement. \\n29.14 Headings. The section headings contained in this agreement are for reference purposes only \\nand shall not affect the meaning or interpretation of this agreement. \\n29.15 Attorney Fees. If either party brings an Action to enforce their rights under this agreement, the \\nprevailing party may recover its expenses (including reasonable attorneys\\' fees) incurred in \\nconnection with the Action and any appeal from the losing party. \\nThis agreement has been signed by the parties. \\n[PARTY A NAME] [PARTY B NAME] \\nName: [PARTY A SIGNATORY NAME] Name: [PARTY B SIGNATORY NAME] \\nTitle: [PARTY A SIGNATORY TITLE] Title: [PARTY B SIGNATORY TITLE] \\n\\n11 of 11 \\n\\n\\x0c\\n'"
            ],
            "application/vnd.google.colaboratory.intrinsic+json": {
              "type": "string"
            }
          },
          "metadata": {},
          "execution_count": 18
        }
      ]
    },
    {
      "cell_type": "code",
      "source": [
        "with open(\"../content/tenant lease.txt\") as file:tenant_lease = file.read()\n",
        "tenant_lease"
      ],
      "metadata": {
        "id": "gWOnoAuPY-Hd",
        "colab": {
          "base_uri": "https://localhost:8080/",
          "height": 251
        },
        "outputId": "f945bdc8-074c-49d2-b725-1c3bbb588741"
      },
      "execution_count": null,
      "outputs": [
        {
          "output_type": "execute_result",
          "data": {
            "text/plain": [
              "' COMMERCIAL LEASE \\nThis Lease is made between ___________________________________ (“Lessor”), and ___________________________, \\n(“Tenant”). Tenant hereby offers to lease from Lessor the real property located in the City of ____________, State of California, \\nwith a common address of ___________________________________________________, (the “Real Property”), upon the \\nfollowing terms and conditions. (This document shall hereafter be referred to as the “Lease”). \\nTERMS AND CONDITIONS \\n1. Term and Rent. Lessor leases to Lessee the above Real Property for a term of ______________ years, commencing \\n____________________________, and terminating on __________________________________, or sooner as provided herein at \\nthe annual rental of _____________________________________________________ Dollars ($ ), payable in \\nequal installments in advance on the first day of each month for that month’s rental, during the term of this Lease. All rental \\npayments shall be made to Lessor at the address specified below. \\n2. Option to Renew. Provided that Tenant is not in default in the performance of this Lease, Tenant shall have the option to renew \\nthe Lease for one (or, if more than one option period given, insert number here _________) additional term(s) of ___________ \\nmonths commencing at the expiration of the initial Lease term. All of the terms and conditions of the Lease shall apply during the \\nrenewal term except that the monthly rent shall be the sum of $_____________________________ (subject to the restrictions of \\nparagraph 4, below). The option shall be exercised by written notice given to Lessor not less than ____________________ days \\nprior to the expiration of the prior Lease term. (If no other time is inserted, notice shall be given ninety (90) days prior to the \\nexpiration of the prior lease term). If notice is not given in the manner provided herein within the time specified, this option shall \\nlapse and expire. \\n3. Use. Tenant shall use and occupy the Real Property for the commercial purpose of ____________________. The Real Property \\nshall be used for no other purpose. \\n4. SBA Provisions. If this Lease is executed by a Lessor and/or Tenant, who are participating in the U.S. Small Business \\nAdministration 504 Loan Program, then the parties hereto agree and acknowledge that this Lease shall be construed to comply with \\nthe requirements of such program including, but not limited to, those found in Title 13 of the Code of Federal Regulations, the SBA \\nStandard Operating Procedures 50-10 and all other relevant statutes laws, codes, regulations and procedures. Without limiting the \\napplicability of all relevant law, the following conditions shall apply: \\n\\n\\n(1) The Tenant shall lease from Lessor all of the Real Property; \\n\\n \\n\\n(2) This Lease shall be junior and subordinate to any and all deeds of trust in favor of the SBA which relate to the \\nReal Property; \\n\\n \\n\\n(3) The annual rent hereunder shall not exceed the annual payments on the deed of trust in favor of the SBA secured \\nby the Real Property, annual payments of deeds of trust senior to such SBA deed of trust, taxes, insurance and \\nmaintenance. \\n\\n \\n\\n(4) This Lease shall be assigned, for collateral purposes, to the SBA. \\n\\n \\n\\n(5) The term of this Lease shall not expire prior to the maturity date of the subject SBA 504 Loan. Provided, the \\nLease term may include options to renew the Lease, so long as the options are exercisable solely by the Tenant. \\n\\n \\n\\n(6) Any leases of the Real Property other than to the Tenant shall be between the Tenant and the third party \\nsubtenant. \\n\\n \\n5. Care and Maintenance of Real Property. Tenant acknowledges that the Real Property is in good order and repair, unless \\notherwise indicated herein. Tenant shall, at his own expense and at all times, maintain the Real Property in good and safe condition, \\nincluding plate glass, electrical wiring, plumbing and heating installations and any other system or equipment upon the Real Property \\nand shall surrender the same, at termination hereof, in as good condition as received, normal wear and tear excepted. \\n\\n\\n(Check here if this provision applies.) ___ Tenant shall be responsible for all repairs required, excepting the roof, exterior walls, \\n\\n\\x0c\\nstructural foundations, and_______________________________________________________________________________, \\nwhich shall be maintained by Lessor. Tenant shall also maintain in good condition such portions adjacent to the Real Property, such \\nas sidewalks, driveways, lawns and shrubbery, which would otherwise be required to be maintained by Lessor. \\n6. Alterations. Tenant shall not, without first obtaining the written consent of Lessor, make any alternations, additions, or \\nimprovements, in, to or about the Real Property. \\n\\n \\n7. Ordinances and Statutes. Tenant shall comply with all statutes, ordinances, regulations, covenants, conditions and requirements \\nof all municipal, state and federal authorities (including owner’s association and similar entities) now in force, or which may \\nhereafter be in force, pertaining to the Real Property, occasioned by or affecting the use thereof by Tenant. \\n8. Assignment and Subletting. Tenant shall not assign this Lease or sublet any portion of the Real Property without prior written \\nconsent of the Lessor, which shall not be unreasonably withheld. Any such assignment or subletting without consent shall be void \\nand, at the option of the Lessor, may terminate this Lease. \\n9. Utilities. All applications and connections for necessary utility services on the Real Property shall be made in the name of \\nTenant only, and Tenant shall be solely liable for utility charges as they become due, including those for sewer, water, gas, \\nelectricity, and telephone services. \\n10. Entry and Inspection. Tenant shall permit Lessor or Lessor’s agents (and/or Lessor’s lenders and/or their agents and \\nrepresentatives) to enter upon the Real Property at reasonable times and upon reasonable notice, for the purpose of inspecting the \\nsame, and will permit Lessor at any time within ninety (90) days prior to the expiration of this Lease, to place upon the Real Property \\nany usual “To Let” or \"For Lease” signs, and permit persons desiring to lease the same to inspect the Real Property thereafter. \\n11. Possession. If Lessor is unable to deliver possession of the Real Property at the commencement hereof, Lessor shall not be \\nliable for any damage caused thereby, nor shall this Lease be void or voidable, but Tenant shall not be liable for any rent until \\npossession is delivered. Tenant may terminate this Lease if possession is not delivered within one hundred twenty days of the \\ncommencement of the term hereof. \\n12. Indemnification of Lessor. Lessor shall not be liable for any damage or injury to Tenant, or any other person, or to any \\nproperty, occurring on the Real Property or any part thereof, and Tenant agrees to indemnify and hold Lessor harmless from any \\nclaims for damages, no matter how caused, except for those caused by the sole negligence or sole unlawful conduct of Lessor. \\n13. Insurance. Tenant, at Tenant’s expense, shall maintain plate glass and public liability insurance including bodily injury and \\nproperty damage insuring Tenant and Lessor with minimum coverage as follows: \\n_______________________________________________________________________________________________________ \\n_________________________________________________________________________________________________________ \\nTenant shall provide Lessor with a Certificate of Insurance showing Lessor as additional insured. The Certificate shall provide for a \\nten-day written notice to Lessor in the event of cancellation or material change of coverage. To the maximum extent permitted by \\ninsurance policies which may be owned by Lessor or Tenant, Tenant and Lessor, for the benefit of each other, waive any and all \\nrights of subrogation which might otherwise exist. \\n14. Eminent Domain. If the Real Property or any part thereof or any estate therein, or any other part of the building materially \\naffecting Tenant’s use of the Real Property, shall be taken by eminent domain, this Lease shall terminate on the date when title vests \\npursuant to such taking. The rent, and any additional rent, shall be apportioned as of the termination date, and any rent paid for any \\nperiod beyond that date shall be repaid to Tenant. Tenant shall not be entitled to any part of the award for such taking or any \\npayment in lieu thereof, but Tenant may file a claim for any taking of fixtures and improvements owned by Tenant, and for moving \\nexpenses. \\n\\n\\n15. Destruction of Real Property. In the event of a partial destruction of the Real Property during the term hereof, from any \\ncause, Lessor shall forthwith repair the same, provided that such repairs can be made within sixty (60) days under existing \\ngovernmental laws and regulations; but, such partial destruction shall not terminate this Lease, except that Tenant shall be entitled to \\na proportionate reduction of rent while such repairs are being made, based upon the extent to which the making of such repairs shall \\ninterfere with the business of Tenant on the Real Property. If such repairs cannot be made within said sixty (60) days, Lessor, in \\nLessor’s sole discretion and option, may make the repairs within a reasonable time, this Lease continuing in effect with the rent \\n\\n\\x0c\\nproportionately abated as provided in the preceding sentence, and in the event that Lessor shall not elect to make such repairs, which \\ncannot be made within sixty (60) days, this Lease may be terminated at the option of either party. In the event that the building in \\nwhich the Real Property may be situated is destroyed to an extent of not less than one-third of the replacement costs thereof, Lessor \\nmay elect to terminate this Lease whether the Real Property be injured or not. A total destruction of the building in which the Real \\nProperty may be situated shall terminate this Lease. \\n\\n \\n16. Lessor’s Remedies on Default. If Tenant defaults in the payment of rent, or any additional rent, or defaults in the performance \\nof any of the other covenants or conditions hereof, Lessor may give Tenant notice of such default and if Tenant does not cure any \\nsuch default within _________________ (this shall be fifteen, if no other number is filled in) days, after the giving of such notice \\n(or if such other default is of such nature that it cannot be completely cured within such period, if Tenant does not commence such \\ncuring within such ___________(this shall be fifteen, if no other number is filled in) days and thereafter proceed with reasonable \\ndiligence and good faith to cure such default), then Lessor may terminate this Lease and all rights of Lessee under this Lease by such \\nwritten notice. If it so terminates on the date specified in such notice the term of this Lease shall terminate, and Tenant shall then \\nquit and surrender the Real Property to Lessor, but Tenant shall remain liable as hereinafter provided. If this Lease shall have been \\nso terminated by Lessor, Lessor may at any time thereafter resume possession of the Real Property by any lawful means and remove \\nTenant or other occupants and their effects. No failure to enforce any term shall be deemed a waiver. \\nNo act of Lessor shall be construed as terminating this Lease except written notice given by Lessor to Tenant advising Tenant that \\nLessor elects to terminate the Lease. In the event Lessor elects to terminate this Lease, Lessor may recover from Tenant: (a) The \\nworth at the time of award of any unpaid rent that had been earned at the time of termination of the Lease; (b) The worth at the time \\nof award of the amount by which the unpaid rent that would have been earned after termination of the Lease until the time of award \\nexceeds the amount of rental loss that Tenant proves could have been reasonably avoided; (c) The worth at the time of award of the \\namount by which the unpaid rent for the balance of the term of this lease after the time of award exceeds the amount of rental loss \\nthat Tenant proves could be reasonably avoided; and (d) Any other amount necessary to compensate Lessor for all detrimental \\nproximately caused by Tenant’s failure to perform its obligations under this Lease. \\nThe term \"rent” as used in this Lease shall mean Rent and all other sums required to be paid by Tenant pursuant to the terms of this \\nLease \\n17. Security Deposit. Tenant shall deposit with Lessor on the signing of this Lease the sum of \\n______________________________ Dollars ($ ) as security for the performance of Tenant’s obligations under this \\nLease, including without limitation the surrender of possession of the Real Property to Lessor as herein provided. If Lessor applies \\nany part of the deposit to cure any default of Tenant, Tenant shall on demand deposit with Lessor the amount so applied so that \\nLessor shall have the full deposit on hand at all times during the term of this Lease. \\n18. Tax Increase. In the event there is any increase during any year of the term of this Lease in real property taxes over and above \\nthe amount of such taxes assessed for the tax year during which the term of this Lease commences, whether because of increased \\nrate, valuation or otherwise, Tenant shall pay to Lessor upon presentation of paid tax bills an amount equal to the increase in taxes \\nupon the land and building on which the Real Property is situated. In the event that such taxes are assessed for a tax year extending \\nbeyond the term of the Lease, the obligation of Tenant shall be proportionate to the portion of the Lease term included in such year. \\nAll such tax obligations of Lessee hereunder shall be added to and become a part of the rent paid under this Lease. \\n19. Common Area Expenses. In the event the Real Property is situated in a shopping center, a commercial building or other \\ncomplex in which there are common areas, Tenant agrees to pay Tenant’s pro-rata share of maintenance, taxes, and insurance for \\nthe common area. All such obligations of Tenant hereafter shall be added to and become a part of the rent paid under this Lease. \\n20. Attorney’s Fees. In case suit should be brought for recovery of the Real Property, or for any sum due hereunder, or because of \\nany act which may arise out of the possession of the Real Property, by either party, the prevailing party shall be entitled to all costs \\nincurred in connection with such action, including a reasonable attorney’s fee. \\n21. Waiver. No failure of Lessor to enforce any term hereof shall be deemed to be a waiver. \\n22. Notices. Any notice which either party may or is required to give, shall be given by personal delivery or mailing the same, \\npostage prepaid, to Tenant at the Real Property (or at the address indicated below), or Lessor at the address specified below, or at \\nsuch other places as may be designated by the parties from time to time. \\n\\n\\n23. Heirs, Assigns, Successors. This Lease is binding upon and inures to the benefit of the heirs, assigns and successors in interest \\n\\n\\x0c\\nof the parties. \\n24. Subordination. This Lease is and shall be subordinated to all existing and future liens, mortgages, deeds of trust, ground \\nleases, hypothecations, security devices and encumbrances (“Security Instruments”) against the Real Property now or hereafter \\nplaced upon the Real Property, to any and all advances made under any of said Security Instruments. Tenant covenants and agrees \\nto execute and deliver, upon demand, those instruments reasonably necessary to effect such subordination. Self-executing: The \\nagreements contained in this Paragraph shall be effective without the execution of any further documents; the power given herein is \\ncoupled with an interest and is irrevocable. Provided, that upon written request from a Lender or Lessor in connection with a sale, \\nfinancing or refinancing of the Premises, Lessee and Lessor shall execute such further writings as may be reasonably required to \\nseparately document any subordination, attornment and/or other relevant terms provided for herein. \\n25. Time of Essence. Time is of the essence in the performance of this Agreement. \\n26. Entire Agreement. The foregoing constitutes the entire agreement between the parties and may be modified only by a writing \\nsigned by both parties. The following Exhibits, if any, have been made a part of this Lease before the parties’ execution hereof: \\n___________. \\nSigned this __________ day of ______________________, 200__. \\nLESSOR: Tenant: \\n\\n \\nBy: _____________________________ By: __________________________________ \\n_____________________________ __________________________________ \\n(Print Name and Title) (Print Name and Title) \\n_____________________________ __________________________________ \\n_____________________________ __________________________________ \\nAddress Address (if different than Real Property address) \\nC:\\\\WPFILES\\\\C D C\\\\CLOSING\\\\FORMS\\\\WORKBOOK DOCUMENTS\\\\REAL PROPERTY\\\\COMMERCIAL LEASE FOR EPC.DOC \\n\\n\\x0c\\n'"
            ],
            "application/vnd.google.colaboratory.intrinsic+json": {
              "type": "string"
            }
          },
          "metadata": {},
          "execution_count": 19
        }
      ]
    },
    {
      "cell_type": "code",
      "source": [
        "words2 = amendment_contract.split()\n",
        "words3 = software_license_agreement.split()\n",
        "words4 = tenant_lease.split()"
      ],
      "metadata": {
        "id": "EHB97o0VZL02"
      },
      "execution_count": null,
      "outputs": []
    },
    {
      "cell_type": "code",
      "source": [
        "only_words2 = [word for word in words2 if word.isalpha()]\n",
        "only_words3 = [word for word in words3 if word.isalpha()]\n",
        "only_words4 = [word for word in words4 if word.isalpha()]"
      ],
      "metadata": {
        "id": "f5W8lQCFZ4Gh"
      },
      "execution_count": null,
      "outputs": []
    },
    {
      "cell_type": "code",
      "source": [
        "small_letter_words2=[word.lower() for word in only_words2]\n",
        "small_letter_words3=[word.lower() for word in only_words3]\n",
        "small_letter_words4=[word.lower() for word in only_words4]"
      ],
      "metadata": {
        "id": "2EFH-y3qpIvu"
      },
      "execution_count": null,
      "outputs": []
    },
    {
      "cell_type": "code",
      "source": [
        "filtered_words_amendment_contract= [word for word in small_letter_words2 if word not in stopwords_nltk]\n",
        "filtered_words_software_license_contract= [word for word in small_letter_words3 if word not in stopwords_nltk]\n",
        "filtered_words_tenant_lease= [word for word in small_letter_words4 if word not in stopwords_nltk]"
      ],
      "metadata": {
        "id": "5QCp-j0spkIb"
      },
      "execution_count": null,
      "outputs": []
    },
    {
      "cell_type": "code",
      "source": [
        "lemmatized_tenantLease = ([lemmatizer.lemmatize(w) for w in filtered_words_tenant_lease])\n",
        "lemmatized_boardResolution = ([lemmatizer.lemmatize(w) for w in filtered_words_boardresolution])\n",
        "lemmatized_software_contract = ([lemmatizer.lemmatize(w) for w in filtered_words_software_license_contract])\n",
        "lemmatized_amendment_contract = ([lemmatizer.lemmatize(w) for w in filtered_words_amendment_contract])"
      ],
      "metadata": {
        "id": "8MJ1BDt3qVAT"
      },
      "execution_count": null,
      "outputs": []
    },
    {
      "cell_type": "code",
      "source": [
        "def tenant_lease_words():\n",
        "    return lemmatized_tenantLease"
      ],
      "metadata": {
        "id": "5q_xwcI9uu2C"
      },
      "execution_count": null,
      "outputs": []
    },
    {
      "cell_type": "code",
      "source": [],
      "metadata": {
        "id": "lg55vWQoeczQ"
      },
      "execution_count": null,
      "outputs": []
    },
    {
      "cell_type": "code",
      "source": [
        "def board_resolution_words():\n",
        "    return lemmatized_boardResolution\n",
        "def software_contract_words():\n",
        "    return lemmatized_software_contract\n",
        "def amendment_contract_words():\n",
        "    return lemmatized_amendment_contract"
      ],
      "metadata": {
        "id": "ZSSqD_71x6a6"
      },
      "execution_count": null,
      "outputs": []
    },
    {
      "cell_type": "code",
      "source": [
        "board_resolution_words()"
      ],
      "metadata": {
        "id": "Ue70V-vSbnnM"
      },
      "execution_count": null,
      "outputs": []
    },
    {
      "cell_type": "code",
      "source": [
        "pip install pyLDAvis\n"
      ],
      "metadata": {
        "id": "K1RtIVPYZmpq",
        "colab": {
          "base_uri": "https://localhost:8080/"
        },
        "outputId": "1a7036d6-bb4d-4343-8681-c8368e20a806"
      },
      "execution_count": null,
      "outputs": [
        {
          "output_type": "stream",
          "name": "stdout",
          "text": [
            "Looking in indexes: https://pypi.org/simple, https://us-python.pkg.dev/colab-wheels/public/simple/\n",
            "Collecting pyLDAvis\n",
            "  Downloading pyLDAvis-3.3.1.tar.gz (1.7 MB)\n",
            "\u001b[2K     \u001b[90m━━━━━━━━━━━━━━━━━━━━━━━━━━━━━━━━━━━━━━━━\u001b[0m \u001b[32m1.7/1.7 MB\u001b[0m \u001b[31m22.6 MB/s\u001b[0m eta \u001b[36m0:00:00\u001b[0m\n",
            "\u001b[?25h  Installing build dependencies ... \u001b[?25l\u001b[?25hdone\n",
            "  Getting requirements to build wheel ... \u001b[?25l\u001b[?25hdone\n",
            "  Installing backend dependencies ... \u001b[?25l\u001b[?25hdone\n",
            "  Preparing metadata (pyproject.toml) ... \u001b[?25l\u001b[?25hdone\n",
            "Requirement already satisfied: scipy in /usr/local/lib/python3.8/dist-packages (from pyLDAvis) (1.7.3)\n",
            "Requirement already satisfied: numpy>=1.20.0 in /usr/local/lib/python3.8/dist-packages (from pyLDAvis) (1.21.6)\n",
            "Collecting funcy\n",
            "  Downloading funcy-1.18-py2.py3-none-any.whl (33 kB)\n",
            "Collecting sklearn\n",
            "  Downloading sklearn-0.0.post1.tar.gz (3.6 kB)\n",
            "  Preparing metadata (setup.py) ... \u001b[?25l\u001b[?25hdone\n",
            "Requirement already satisfied: pandas>=1.2.0 in /usr/local/lib/python3.8/dist-packages (from pyLDAvis) (1.3.5)\n",
            "Requirement already satisfied: setuptools in /usr/local/lib/python3.8/dist-packages (from pyLDAvis) (57.4.0)\n",
            "Requirement already satisfied: future in /usr/local/lib/python3.8/dist-packages (from pyLDAvis) (0.16.0)\n",
            "Requirement already satisfied: joblib in /usr/local/lib/python3.8/dist-packages (from pyLDAvis) (1.2.0)\n",
            "Requirement already satisfied: scikit-learn in /usr/local/lib/python3.8/dist-packages (from pyLDAvis) (1.0.2)\n",
            "Requirement already satisfied: jinja2 in /usr/local/lib/python3.8/dist-packages (from pyLDAvis) (2.11.3)\n",
            "Requirement already satisfied: gensim in /usr/local/lib/python3.8/dist-packages (from pyLDAvis) (3.6.0)\n",
            "Requirement already satisfied: numexpr in /usr/local/lib/python3.8/dist-packages (from pyLDAvis) (2.8.4)\n",
            "Requirement already satisfied: python-dateutil>=2.7.3 in /usr/local/lib/python3.8/dist-packages (from pandas>=1.2.0->pyLDAvis) (2.8.2)\n",
            "Requirement already satisfied: pytz>=2017.3 in /usr/local/lib/python3.8/dist-packages (from pandas>=1.2.0->pyLDAvis) (2022.7)\n",
            "Requirement already satisfied: smart-open>=1.2.1 in /usr/local/lib/python3.8/dist-packages (from gensim->pyLDAvis) (6.3.0)\n",
            "Requirement already satisfied: six>=1.5.0 in /usr/local/lib/python3.8/dist-packages (from gensim->pyLDAvis) (1.15.0)\n",
            "Requirement already satisfied: MarkupSafe>=0.23 in /usr/local/lib/python3.8/dist-packages (from jinja2->pyLDAvis) (2.0.1)\n",
            "Requirement already satisfied: threadpoolctl>=2.0.0 in /usr/local/lib/python3.8/dist-packages (from scikit-learn->pyLDAvis) (3.1.0)\n",
            "Building wheels for collected packages: pyLDAvis, sklearn\n",
            "  Building wheel for pyLDAvis (pyproject.toml) ... \u001b[?25l\u001b[?25hdone\n",
            "  Created wheel for pyLDAvis: filename=pyLDAvis-3.3.1-py2.py3-none-any.whl size=136898 sha256=9a716b0e07412507b329816ae1de533c4cab329bf0ad7e138310e4d5b5665b12\n",
            "  Stored in directory: /root/.cache/pip/wheels/90/61/ec/9dbe9efc3acf9c4e37ba70fbbcc3f3a0ebd121060aa593181a\n",
            "  Building wheel for sklearn (setup.py) ... \u001b[?25l\u001b[?25hdone\n",
            "  Created wheel for sklearn: filename=sklearn-0.0.post1-py3-none-any.whl size=2344 sha256=2884a07f660c9c02d42af48e561d260388f8e4106c00acb6d6fc338230621c63\n",
            "  Stored in directory: /root/.cache/pip/wheels/14/25/f7/1cc0956978ae479e75140219088deb7a36f60459df242b1a72\n",
            "Successfully built pyLDAvis sklearn\n",
            "Installing collected packages: sklearn, funcy, pyLDAvis\n",
            "Successfully installed funcy-1.18 pyLDAvis-3.3.1 sklearn-0.0.post1\n"
          ]
        }
      ]
    },
    {
      "cell_type": "code",
      "source": [
        "import pandas as pd\n",
        "import numpy as np\n",
        "\n",
        "\n",
        "import re\n",
        "import string\n",
        "\n",
        "import spacy\n",
        "\n",
        "import gensim\n",
        "from gensim import corpora\n",
        "\n",
        "# libraries for visualization\n",
        "import pyLDAvis\n",
        "import pyLDAvis.gensim_models\n",
        "import matplotlib.pyplot as plt\n",
        "import seaborn as sns\n",
        "%matplotlib inline"
      ],
      "metadata": {
        "id": "mjrSAXfHUUCB",
        "colab": {
          "base_uri": "https://localhost:8080/"
        },
        "outputId": "3f15a46e-3c16-46d1-f83b-a0f739d81a8e"
      },
      "execution_count": null,
      "outputs": [
        {
          "output_type": "stream",
          "name": "stderr",
          "text": [
            "/usr/local/lib/python3.8/dist-packages/torch/cuda/__init__.py:497: UserWarning: Can't initialize NVML\n",
            "  warnings.warn(\"Can't initialize NVML\")\n",
            "/usr/local/lib/python3.8/dist-packages/past/types/oldstr.py:5: DeprecationWarning: Using or importing the ABCs from 'collections' instead of from 'collections.abc' is deprecated since Python 3.3, and in 3.10 it will stop working\n",
            "  from collections import Iterable\n"
          ]
        }
      ]
    },
    {
      "cell_type": "code",
      "source": [
        "tokens = [word for word in tenant_lease_words()]\n",
        "\n",
        "dictionary = corpora.Dictionary([tokens])"
      ],
      "metadata": {
        "id": "g5Z-jjGAiNj5"
      },
      "execution_count": null,
      "outputs": []
    },
    {
      "cell_type": "code",
      "source": [
        "print(dictionary)\n",
        "tokens"
      ],
      "metadata": {
        "id": "p8CxPps5ieWX"
      },
      "execution_count": null,
      "outputs": []
    },
    {
      "cell_type": "code",
      "source": [
        "from sklearn.feature_extraction.text import CountVectorizer\n",
        "\n",
        "\n",
        "\n",
        "vectorizer = CountVectorizer()\n",
        "X = vectorizer.fit_transform(lemmatized_tenantLease)\n"
      ],
      "metadata": {
        "id": "KpuIhBHAdeM1"
      },
      "execution_count": null,
      "outputs": []
    },
    {
      "cell_type": "code",
      "source": [
        "X"
      ],
      "metadata": {
        "id": "CVnvQUm_4vgZ",
        "colab": {
          "base_uri": "https://localhost:8080/"
        },
        "outputId": "f3dc74f7-10cc-4694-d8a0-0fc6f31ae91a"
      },
      "execution_count": null,
      "outputs": [
        {
          "output_type": "execute_result",
          "data": {
            "text/plain": [
              "<1147x415 sparse matrix of type '<class 'numpy.int64'>'\n",
              "\twith 1147 stored elements in Compressed Sparse Row format>"
            ]
          },
          "metadata": {},
          "execution_count": 33
        }
      ]
    },
    {
      "cell_type": "code",
      "source": [
        "K=X.getnnz"
      ],
      "metadata": {
        "id": "o-p093g5go4v"
      },
      "execution_count": null,
      "outputs": []
    },
    {
      "cell_type": "code",
      "source": [
        "X.getnnz"
      ],
      "metadata": {
        "id": "0O5VonAdLMk4",
        "colab": {
          "base_uri": "https://localhost:8080/"
        },
        "outputId": "ef2d11a2-e965-46cf-98ee-751cabd20810"
      },
      "execution_count": null,
      "outputs": [
        {
          "output_type": "execute_result",
          "data": {
            "text/plain": [
              "<bound method _cs_matrix.getnnz of <1147x415 sparse matrix of type '<class 'numpy.int64'>'\n",
              "\twith 1147 stored elements in Compressed Sparse Row format>>"
            ]
          },
          "metadata": {},
          "execution_count": 35
        }
      ]
    },
    {
      "cell_type": "code",
      "source": [
        "from scipy.sparse import csr_matrix\n",
        "import pandas as pd\n",
        "\n",
        "sparse_matrix = csr_matrix(X)\n",
        "dense_matrix = sparse_matrix.toarray()\n",
        "df = pd.DataFrame(dense_matrix)\n",
        "df.index = tokens"
      ],
      "metadata": {
        "id": "n0sIIFnx82Yn"
      },
      "execution_count": null,
      "outputs": []
    },
    {
      "cell_type": "code",
      "source": [
        "df2=pd.DataFrame(sparse_matrix)\n",
        "df2.index=tokens\n",
        "df2"
      ],
      "metadata": {
        "id": "VoxxZs5lMs-x",
        "colab": {
          "base_uri": "https://localhost:8080/",
          "height": 423
        },
        "outputId": "fdb0701e-0128-4b9a-9b85-24526635b34c"
      },
      "execution_count": null,
      "outputs": [
        {
          "output_type": "execute_result",
          "data": {
            "text/plain": [
              "                        0\n",
              "commercial     (0, 61)\\t1\n",
              "lease         (0, 205)\\t1\n",
              "lease         (0, 205)\\t1\n",
              "made          (0, 219)\\t1\n",
              "tenant        (0, 377)\\t1\n",
              "...                   ...\n",
              "address         (0, 6)\\t1\n",
              "different     (0, 100)\\t1\n",
              "real          (0, 307)\\t1\n",
              "property      (0, 296)\\t1\n",
              "lease         (0, 205)\\t1\n",
              "\n",
              "[1147 rows x 1 columns]"
            ],
            "text/html": [
              "\n",
              "  <div id=\"df-a0378483-e222-4dae-a19f-ad9210cb1281\">\n",
              "    <div class=\"colab-df-container\">\n",
              "      <div>\n",
              "<style scoped>\n",
              "    .dataframe tbody tr th:only-of-type {\n",
              "        vertical-align: middle;\n",
              "    }\n",
              "\n",
              "    .dataframe tbody tr th {\n",
              "        vertical-align: top;\n",
              "    }\n",
              "\n",
              "    .dataframe thead th {\n",
              "        text-align: right;\n",
              "    }\n",
              "</style>\n",
              "<table border=\"1\" class=\"dataframe\">\n",
              "  <thead>\n",
              "    <tr style=\"text-align: right;\">\n",
              "      <th></th>\n",
              "      <th>0</th>\n",
              "    </tr>\n",
              "  </thead>\n",
              "  <tbody>\n",
              "    <tr>\n",
              "      <th>commercial</th>\n",
              "      <td>(0, 61)\\t1</td>\n",
              "    </tr>\n",
              "    <tr>\n",
              "      <th>lease</th>\n",
              "      <td>(0, 205)\\t1</td>\n",
              "    </tr>\n",
              "    <tr>\n",
              "      <th>lease</th>\n",
              "      <td>(0, 205)\\t1</td>\n",
              "    </tr>\n",
              "    <tr>\n",
              "      <th>made</th>\n",
              "      <td>(0, 219)\\t1</td>\n",
              "    </tr>\n",
              "    <tr>\n",
              "      <th>tenant</th>\n",
              "      <td>(0, 377)\\t1</td>\n",
              "    </tr>\n",
              "    <tr>\n",
              "      <th>...</th>\n",
              "      <td>...</td>\n",
              "    </tr>\n",
              "    <tr>\n",
              "      <th>address</th>\n",
              "      <td>(0, 6)\\t1</td>\n",
              "    </tr>\n",
              "    <tr>\n",
              "      <th>different</th>\n",
              "      <td>(0, 100)\\t1</td>\n",
              "    </tr>\n",
              "    <tr>\n",
              "      <th>real</th>\n",
              "      <td>(0, 307)\\t1</td>\n",
              "    </tr>\n",
              "    <tr>\n",
              "      <th>property</th>\n",
              "      <td>(0, 296)\\t1</td>\n",
              "    </tr>\n",
              "    <tr>\n",
              "      <th>lease</th>\n",
              "      <td>(0, 205)\\t1</td>\n",
              "    </tr>\n",
              "  </tbody>\n",
              "</table>\n",
              "<p>1147 rows × 1 columns</p>\n",
              "</div>\n",
              "      <button class=\"colab-df-convert\" onclick=\"convertToInteractive('df-a0378483-e222-4dae-a19f-ad9210cb1281')\"\n",
              "              title=\"Convert this dataframe to an interactive table.\"\n",
              "              style=\"display:none;\">\n",
              "        \n",
              "  <svg xmlns=\"http://www.w3.org/2000/svg\" height=\"24px\"viewBox=\"0 0 24 24\"\n",
              "       width=\"24px\">\n",
              "    <path d=\"M0 0h24v24H0V0z\" fill=\"none\"/>\n",
              "    <path d=\"M18.56 5.44l.94 2.06.94-2.06 2.06-.94-2.06-.94-.94-2.06-.94 2.06-2.06.94zm-11 1L8.5 8.5l.94-2.06 2.06-.94-2.06-.94L8.5 2.5l-.94 2.06-2.06.94zm10 10l.94 2.06.94-2.06 2.06-.94-2.06-.94-.94-2.06-.94 2.06-2.06.94z\"/><path d=\"M17.41 7.96l-1.37-1.37c-.4-.4-.92-.59-1.43-.59-.52 0-1.04.2-1.43.59L10.3 9.45l-7.72 7.72c-.78.78-.78 2.05 0 2.83L4 21.41c.39.39.9.59 1.41.59.51 0 1.02-.2 1.41-.59l7.78-7.78 2.81-2.81c.8-.78.8-2.07 0-2.86zM5.41 20L4 18.59l7.72-7.72 1.47 1.35L5.41 20z\"/>\n",
              "  </svg>\n",
              "      </button>\n",
              "      \n",
              "  <style>\n",
              "    .colab-df-container {\n",
              "      display:flex;\n",
              "      flex-wrap:wrap;\n",
              "      gap: 12px;\n",
              "    }\n",
              "\n",
              "    .colab-df-convert {\n",
              "      background-color: #E8F0FE;\n",
              "      border: none;\n",
              "      border-radius: 50%;\n",
              "      cursor: pointer;\n",
              "      display: none;\n",
              "      fill: #1967D2;\n",
              "      height: 32px;\n",
              "      padding: 0 0 0 0;\n",
              "      width: 32px;\n",
              "    }\n",
              "\n",
              "    .colab-df-convert:hover {\n",
              "      background-color: #E2EBFA;\n",
              "      box-shadow: 0px 1px 2px rgba(60, 64, 67, 0.3), 0px 1px 3px 1px rgba(60, 64, 67, 0.15);\n",
              "      fill: #174EA6;\n",
              "    }\n",
              "\n",
              "    [theme=dark] .colab-df-convert {\n",
              "      background-color: #3B4455;\n",
              "      fill: #D2E3FC;\n",
              "    }\n",
              "\n",
              "    [theme=dark] .colab-df-convert:hover {\n",
              "      background-color: #434B5C;\n",
              "      box-shadow: 0px 1px 3px 1px rgba(0, 0, 0, 0.15);\n",
              "      filter: drop-shadow(0px 1px 2px rgba(0, 0, 0, 0.3));\n",
              "      fill: #FFFFFF;\n",
              "    }\n",
              "  </style>\n",
              "\n",
              "      <script>\n",
              "        const buttonEl =\n",
              "          document.querySelector('#df-a0378483-e222-4dae-a19f-ad9210cb1281 button.colab-df-convert');\n",
              "        buttonEl.style.display =\n",
              "          google.colab.kernel.accessAllowed ? 'block' : 'none';\n",
              "\n",
              "        async function convertToInteractive(key) {\n",
              "          const element = document.querySelector('#df-a0378483-e222-4dae-a19f-ad9210cb1281');\n",
              "          const dataTable =\n",
              "            await google.colab.kernel.invokeFunction('convertToInteractive',\n",
              "                                                     [key], {});\n",
              "          if (!dataTable) return;\n",
              "\n",
              "          const docLinkHtml = 'Like what you see? Visit the ' +\n",
              "            '<a target=\"_blank\" href=https://colab.research.google.com/notebooks/data_table.ipynb>data table notebook</a>'\n",
              "            + ' to learn more about interactive tables.';\n",
              "          element.innerHTML = '';\n",
              "          dataTable['output_type'] = 'display_data';\n",
              "          await google.colab.output.renderOutput(dataTable, element);\n",
              "          const docLink = document.createElement('div');\n",
              "          docLink.innerHTML = docLinkHtml;\n",
              "          element.appendChild(docLink);\n",
              "        }\n",
              "      </script>\n",
              "    </div>\n",
              "  </div>\n",
              "  "
            ]
          },
          "metadata": {},
          "execution_count": 47
        }
      ]
    },
    {
      "cell_type": "code",
      "source": [
        "sparse_matrix\n",
        "\n"
      ],
      "metadata": {
        "id": "F3Vj05WURh_F",
        "colab": {
          "base_uri": "https://localhost:8080/"
        },
        "outputId": "55c21640-1f33-4f8e-dd71-e39c82951aaa"
      },
      "execution_count": null,
      "outputs": [
        {
          "output_type": "execute_result",
          "data": {
            "text/plain": [
              "<1147x415 sparse matrix of type '<class 'numpy.int64'>'\n",
              "\twith 1147 stored elements in Compressed Sparse Row format>"
            ]
          },
          "metadata": {},
          "execution_count": 38
        }
      ]
    },
    {
      "cell_type": "code",
      "source": [
        "df\n"
      ],
      "metadata": {
        "id": "T1guBzWSM5fS",
        "colab": {
          "base_uri": "https://localhost:8080/",
          "height": 487
        },
        "outputId": "3ff87eb2-1ddf-4c1c-8457-8bd56245ff2a"
      },
      "execution_count": null,
      "outputs": [
        {
          "output_type": "execute_result",
          "data": {
            "text/plain": [
              "            0    1    2    3    4    5    6    7    8    9    ...  405  406  \\\n",
              "commercial    0    0    0    0    0    0    0    0    0    0  ...    0    0   \n",
              "lease         0    0    0    0    0    0    0    0    0    0  ...    0    0   \n",
              "lease         0    0    0    0    0    0    0    0    0    0  ...    0    0   \n",
              "made          0    0    0    0    0    0    0    0    0    0  ...    0    0   \n",
              "tenant        0    0    0    0    0    0    0    0    0    0  ...    0    0   \n",
              "...         ...  ...  ...  ...  ...  ...  ...  ...  ...  ...  ...  ...  ...   \n",
              "address       0    0    0    0    0    0    1    0    0    0  ...    0    0   \n",
              "different     0    0    0    0    0    0    0    0    0    0  ...    0    0   \n",
              "real          0    0    0    0    0    0    0    0    0    0  ...    0    0   \n",
              "property      0    0    0    0    0    0    0    0    0    0  ...    0    0   \n",
              "lease         0    0    0    0    0    0    0    0    0    0  ...    0    0   \n",
              "\n",
              "            407  408  409  410  411  412  413  414  \n",
              "commercial    0    0    0    0    0    0    0    0  \n",
              "lease         0    0    0    0    0    0    0    0  \n",
              "lease         0    0    0    0    0    0    0    0  \n",
              "made          0    0    0    0    0    0    0    0  \n",
              "tenant        0    0    0    0    0    0    0    0  \n",
              "...         ...  ...  ...  ...  ...  ...  ...  ...  \n",
              "address       0    0    0    0    0    0    0    0  \n",
              "different     0    0    0    0    0    0    0    0  \n",
              "real          0    0    0    0    0    0    0    0  \n",
              "property      0    0    0    0    0    0    0    0  \n",
              "lease         0    0    0    0    0    0    0    0  \n",
              "\n",
              "[1147 rows x 415 columns]"
            ],
            "text/html": [
              "\n",
              "  <div id=\"df-74d69620-7a8f-4682-ab19-8e3277c00e94\">\n",
              "    <div class=\"colab-df-container\">\n",
              "      <div>\n",
              "<style scoped>\n",
              "    .dataframe tbody tr th:only-of-type {\n",
              "        vertical-align: middle;\n",
              "    }\n",
              "\n",
              "    .dataframe tbody tr th {\n",
              "        vertical-align: top;\n",
              "    }\n",
              "\n",
              "    .dataframe thead th {\n",
              "        text-align: right;\n",
              "    }\n",
              "</style>\n",
              "<table border=\"1\" class=\"dataframe\">\n",
              "  <thead>\n",
              "    <tr style=\"text-align: right;\">\n",
              "      <th></th>\n",
              "      <th>0</th>\n",
              "      <th>1</th>\n",
              "      <th>2</th>\n",
              "      <th>3</th>\n",
              "      <th>4</th>\n",
              "      <th>5</th>\n",
              "      <th>6</th>\n",
              "      <th>7</th>\n",
              "      <th>8</th>\n",
              "      <th>9</th>\n",
              "      <th>...</th>\n",
              "      <th>405</th>\n",
              "      <th>406</th>\n",
              "      <th>407</th>\n",
              "      <th>408</th>\n",
              "      <th>409</th>\n",
              "      <th>410</th>\n",
              "      <th>411</th>\n",
              "      <th>412</th>\n",
              "      <th>413</th>\n",
              "      <th>414</th>\n",
              "    </tr>\n",
              "  </thead>\n",
              "  <tbody>\n",
              "    <tr>\n",
              "      <th>commercial</th>\n",
              "      <td>0</td>\n",
              "      <td>0</td>\n",
              "      <td>0</td>\n",
              "      <td>0</td>\n",
              "      <td>0</td>\n",
              "      <td>0</td>\n",
              "      <td>0</td>\n",
              "      <td>0</td>\n",
              "      <td>0</td>\n",
              "      <td>0</td>\n",
              "      <td>...</td>\n",
              "      <td>0</td>\n",
              "      <td>0</td>\n",
              "      <td>0</td>\n",
              "      <td>0</td>\n",
              "      <td>0</td>\n",
              "      <td>0</td>\n",
              "      <td>0</td>\n",
              "      <td>0</td>\n",
              "      <td>0</td>\n",
              "      <td>0</td>\n",
              "    </tr>\n",
              "    <tr>\n",
              "      <th>lease</th>\n",
              "      <td>0</td>\n",
              "      <td>0</td>\n",
              "      <td>0</td>\n",
              "      <td>0</td>\n",
              "      <td>0</td>\n",
              "      <td>0</td>\n",
              "      <td>0</td>\n",
              "      <td>0</td>\n",
              "      <td>0</td>\n",
              "      <td>0</td>\n",
              "      <td>...</td>\n",
              "      <td>0</td>\n",
              "      <td>0</td>\n",
              "      <td>0</td>\n",
              "      <td>0</td>\n",
              "      <td>0</td>\n",
              "      <td>0</td>\n",
              "      <td>0</td>\n",
              "      <td>0</td>\n",
              "      <td>0</td>\n",
              "      <td>0</td>\n",
              "    </tr>\n",
              "    <tr>\n",
              "      <th>lease</th>\n",
              "      <td>0</td>\n",
              "      <td>0</td>\n",
              "      <td>0</td>\n",
              "      <td>0</td>\n",
              "      <td>0</td>\n",
              "      <td>0</td>\n",
              "      <td>0</td>\n",
              "      <td>0</td>\n",
              "      <td>0</td>\n",
              "      <td>0</td>\n",
              "      <td>...</td>\n",
              "      <td>0</td>\n",
              "      <td>0</td>\n",
              "      <td>0</td>\n",
              "      <td>0</td>\n",
              "      <td>0</td>\n",
              "      <td>0</td>\n",
              "      <td>0</td>\n",
              "      <td>0</td>\n",
              "      <td>0</td>\n",
              "      <td>0</td>\n",
              "    </tr>\n",
              "    <tr>\n",
              "      <th>made</th>\n",
              "      <td>0</td>\n",
              "      <td>0</td>\n",
              "      <td>0</td>\n",
              "      <td>0</td>\n",
              "      <td>0</td>\n",
              "      <td>0</td>\n",
              "      <td>0</td>\n",
              "      <td>0</td>\n",
              "      <td>0</td>\n",
              "      <td>0</td>\n",
              "      <td>...</td>\n",
              "      <td>0</td>\n",
              "      <td>0</td>\n",
              "      <td>0</td>\n",
              "      <td>0</td>\n",
              "      <td>0</td>\n",
              "      <td>0</td>\n",
              "      <td>0</td>\n",
              "      <td>0</td>\n",
              "      <td>0</td>\n",
              "      <td>0</td>\n",
              "    </tr>\n",
              "    <tr>\n",
              "      <th>tenant</th>\n",
              "      <td>0</td>\n",
              "      <td>0</td>\n",
              "      <td>0</td>\n",
              "      <td>0</td>\n",
              "      <td>0</td>\n",
              "      <td>0</td>\n",
              "      <td>0</td>\n",
              "      <td>0</td>\n",
              "      <td>0</td>\n",
              "      <td>0</td>\n",
              "      <td>...</td>\n",
              "      <td>0</td>\n",
              "      <td>0</td>\n",
              "      <td>0</td>\n",
              "      <td>0</td>\n",
              "      <td>0</td>\n",
              "      <td>0</td>\n",
              "      <td>0</td>\n",
              "      <td>0</td>\n",
              "      <td>0</td>\n",
              "      <td>0</td>\n",
              "    </tr>\n",
              "    <tr>\n",
              "      <th>...</th>\n",
              "      <td>...</td>\n",
              "      <td>...</td>\n",
              "      <td>...</td>\n",
              "      <td>...</td>\n",
              "      <td>...</td>\n",
              "      <td>...</td>\n",
              "      <td>...</td>\n",
              "      <td>...</td>\n",
              "      <td>...</td>\n",
              "      <td>...</td>\n",
              "      <td>...</td>\n",
              "      <td>...</td>\n",
              "      <td>...</td>\n",
              "      <td>...</td>\n",
              "      <td>...</td>\n",
              "      <td>...</td>\n",
              "      <td>...</td>\n",
              "      <td>...</td>\n",
              "      <td>...</td>\n",
              "      <td>...</td>\n",
              "      <td>...</td>\n",
              "    </tr>\n",
              "    <tr>\n",
              "      <th>address</th>\n",
              "      <td>0</td>\n",
              "      <td>0</td>\n",
              "      <td>0</td>\n",
              "      <td>0</td>\n",
              "      <td>0</td>\n",
              "      <td>0</td>\n",
              "      <td>1</td>\n",
              "      <td>0</td>\n",
              "      <td>0</td>\n",
              "      <td>0</td>\n",
              "      <td>...</td>\n",
              "      <td>0</td>\n",
              "      <td>0</td>\n",
              "      <td>0</td>\n",
              "      <td>0</td>\n",
              "      <td>0</td>\n",
              "      <td>0</td>\n",
              "      <td>0</td>\n",
              "      <td>0</td>\n",
              "      <td>0</td>\n",
              "      <td>0</td>\n",
              "    </tr>\n",
              "    <tr>\n",
              "      <th>different</th>\n",
              "      <td>0</td>\n",
              "      <td>0</td>\n",
              "      <td>0</td>\n",
              "      <td>0</td>\n",
              "      <td>0</td>\n",
              "      <td>0</td>\n",
              "      <td>0</td>\n",
              "      <td>0</td>\n",
              "      <td>0</td>\n",
              "      <td>0</td>\n",
              "      <td>...</td>\n",
              "      <td>0</td>\n",
              "      <td>0</td>\n",
              "      <td>0</td>\n",
              "      <td>0</td>\n",
              "      <td>0</td>\n",
              "      <td>0</td>\n",
              "      <td>0</td>\n",
              "      <td>0</td>\n",
              "      <td>0</td>\n",
              "      <td>0</td>\n",
              "    </tr>\n",
              "    <tr>\n",
              "      <th>real</th>\n",
              "      <td>0</td>\n",
              "      <td>0</td>\n",
              "      <td>0</td>\n",
              "      <td>0</td>\n",
              "      <td>0</td>\n",
              "      <td>0</td>\n",
              "      <td>0</td>\n",
              "      <td>0</td>\n",
              "      <td>0</td>\n",
              "      <td>0</td>\n",
              "      <td>...</td>\n",
              "      <td>0</td>\n",
              "      <td>0</td>\n",
              "      <td>0</td>\n",
              "      <td>0</td>\n",
              "      <td>0</td>\n",
              "      <td>0</td>\n",
              "      <td>0</td>\n",
              "      <td>0</td>\n",
              "      <td>0</td>\n",
              "      <td>0</td>\n",
              "    </tr>\n",
              "    <tr>\n",
              "      <th>property</th>\n",
              "      <td>0</td>\n",
              "      <td>0</td>\n",
              "      <td>0</td>\n",
              "      <td>0</td>\n",
              "      <td>0</td>\n",
              "      <td>0</td>\n",
              "      <td>0</td>\n",
              "      <td>0</td>\n",
              "      <td>0</td>\n",
              "      <td>0</td>\n",
              "      <td>...</td>\n",
              "      <td>0</td>\n",
              "      <td>0</td>\n",
              "      <td>0</td>\n",
              "      <td>0</td>\n",
              "      <td>0</td>\n",
              "      <td>0</td>\n",
              "      <td>0</td>\n",
              "      <td>0</td>\n",
              "      <td>0</td>\n",
              "      <td>0</td>\n",
              "    </tr>\n",
              "    <tr>\n",
              "      <th>lease</th>\n",
              "      <td>0</td>\n",
              "      <td>0</td>\n",
              "      <td>0</td>\n",
              "      <td>0</td>\n",
              "      <td>0</td>\n",
              "      <td>0</td>\n",
              "      <td>0</td>\n",
              "      <td>0</td>\n",
              "      <td>0</td>\n",
              "      <td>0</td>\n",
              "      <td>...</td>\n",
              "      <td>0</td>\n",
              "      <td>0</td>\n",
              "      <td>0</td>\n",
              "      <td>0</td>\n",
              "      <td>0</td>\n",
              "      <td>0</td>\n",
              "      <td>0</td>\n",
              "      <td>0</td>\n",
              "      <td>0</td>\n",
              "      <td>0</td>\n",
              "    </tr>\n",
              "  </tbody>\n",
              "</table>\n",
              "<p>1147 rows × 415 columns</p>\n",
              "</div>\n",
              "      <button class=\"colab-df-convert\" onclick=\"convertToInteractive('df-74d69620-7a8f-4682-ab19-8e3277c00e94')\"\n",
              "              title=\"Convert this dataframe to an interactive table.\"\n",
              "              style=\"display:none;\">\n",
              "        \n",
              "  <svg xmlns=\"http://www.w3.org/2000/svg\" height=\"24px\"viewBox=\"0 0 24 24\"\n",
              "       width=\"24px\">\n",
              "    <path d=\"M0 0h24v24H0V0z\" fill=\"none\"/>\n",
              "    <path d=\"M18.56 5.44l.94 2.06.94-2.06 2.06-.94-2.06-.94-.94-2.06-.94 2.06-2.06.94zm-11 1L8.5 8.5l.94-2.06 2.06-.94-2.06-.94L8.5 2.5l-.94 2.06-2.06.94zm10 10l.94 2.06.94-2.06 2.06-.94-2.06-.94-.94-2.06-.94 2.06-2.06.94z\"/><path d=\"M17.41 7.96l-1.37-1.37c-.4-.4-.92-.59-1.43-.59-.52 0-1.04.2-1.43.59L10.3 9.45l-7.72 7.72c-.78.78-.78 2.05 0 2.83L4 21.41c.39.39.9.59 1.41.59.51 0 1.02-.2 1.41-.59l7.78-7.78 2.81-2.81c.8-.78.8-2.07 0-2.86zM5.41 20L4 18.59l7.72-7.72 1.47 1.35L5.41 20z\"/>\n",
              "  </svg>\n",
              "      </button>\n",
              "      \n",
              "  <style>\n",
              "    .colab-df-container {\n",
              "      display:flex;\n",
              "      flex-wrap:wrap;\n",
              "      gap: 12px;\n",
              "    }\n",
              "\n",
              "    .colab-df-convert {\n",
              "      background-color: #E8F0FE;\n",
              "      border: none;\n",
              "      border-radius: 50%;\n",
              "      cursor: pointer;\n",
              "      display: none;\n",
              "      fill: #1967D2;\n",
              "      height: 32px;\n",
              "      padding: 0 0 0 0;\n",
              "      width: 32px;\n",
              "    }\n",
              "\n",
              "    .colab-df-convert:hover {\n",
              "      background-color: #E2EBFA;\n",
              "      box-shadow: 0px 1px 2px rgba(60, 64, 67, 0.3), 0px 1px 3px 1px rgba(60, 64, 67, 0.15);\n",
              "      fill: #174EA6;\n",
              "    }\n",
              "\n",
              "    [theme=dark] .colab-df-convert {\n",
              "      background-color: #3B4455;\n",
              "      fill: #D2E3FC;\n",
              "    }\n",
              "\n",
              "    [theme=dark] .colab-df-convert:hover {\n",
              "      background-color: #434B5C;\n",
              "      box-shadow: 0px 1px 3px 1px rgba(0, 0, 0, 0.15);\n",
              "      filter: drop-shadow(0px 1px 2px rgba(0, 0, 0, 0.3));\n",
              "      fill: #FFFFFF;\n",
              "    }\n",
              "  </style>\n",
              "\n",
              "      <script>\n",
              "        const buttonEl =\n",
              "          document.querySelector('#df-74d69620-7a8f-4682-ab19-8e3277c00e94 button.colab-df-convert');\n",
              "        buttonEl.style.display =\n",
              "          google.colab.kernel.accessAllowed ? 'block' : 'none';\n",
              "\n",
              "        async function convertToInteractive(key) {\n",
              "          const element = document.querySelector('#df-74d69620-7a8f-4682-ab19-8e3277c00e94');\n",
              "          const dataTable =\n",
              "            await google.colab.kernel.invokeFunction('convertToInteractive',\n",
              "                                                     [key], {});\n",
              "          if (!dataTable) return;\n",
              "\n",
              "          const docLinkHtml = 'Like what you see? Visit the ' +\n",
              "            '<a target=\"_blank\" href=https://colab.research.google.com/notebooks/data_table.ipynb>data table notebook</a>'\n",
              "            + ' to learn more about interactive tables.';\n",
              "          element.innerHTML = '';\n",
              "          dataTable['output_type'] = 'display_data';\n",
              "          await google.colab.output.renderOutput(dataTable, element);\n",
              "          const docLink = document.createElement('div');\n",
              "          docLink.innerHTML = docLinkHtml;\n",
              "          element.appendChild(docLink);\n",
              "        }\n",
              "      </script>\n",
              "    </div>\n",
              "  </div>\n",
              "  "
            ]
          },
          "metadata": {},
          "execution_count": 39
        }
      ]
    },
    {
      "cell_type": "code",
      "source": [],
      "metadata": {
        "id": "whJLi0u7GpSn"
      },
      "execution_count": null,
      "outputs": []
    }
  ]
}